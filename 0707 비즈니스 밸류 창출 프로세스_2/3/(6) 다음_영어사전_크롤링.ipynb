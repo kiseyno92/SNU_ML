{
 "cells": [
  {
   "cell_type": "markdown",
   "metadata": {},
   "source": [
    "# Data Crawling from Website"
   ]
  },
  {
   "cell_type": "markdown",
   "metadata": {
    "collapsed": true
   },
   "source": [
    "### 미디어다음에서 제공하는 영어사전 웹사이트에서 랜덤으로 100개의 단어를 수집하고, 단어와 단어의 의미를 보기 좋게 출력하시오.\n",
    "\n",
    "예: http://dic.daum.net/word/view.do?wordid=ekw000078303&q=help\n",
    "\n",
    "\n",
    "* 저장 형식은 자유. 단, 가능한 한 보기 좋게 내용을 편집하여 저장하자.\n",
    "\n",
    "  예)\n",
    "  \n",
    "    단어 1 \n",
    "      1. 뜻풀이  \n",
    "      2. 뜻풀이 \n",
    "    ===  \n",
    "    단어 2 \n",
    "      1. 뜻풀이"
   ]
  },
  {
   "cell_type": "code",
   "execution_count": null,
   "metadata": {
    "collapsed": false
   },
   "outputs": [],
   "source": [
    "from bs4 import BeautifulSoup\n",
    "import urllib.request\n",
    "\n",
    "import numpy as np\n",
    "\n",
    "word_list = []\n",
    "meaning_list = []\n",
    "pronounce_list = []\n",
    "\n",
    "\n",
    "word_index = np.random.random_integers(1,100000,100)\n",
    "start = \"http://dic.daum.net/word/view.do?wordid=ekw\"\n",
    "end = \"&q=\"\n",
    "\n",
    "for index in word_index:\n",
    "    num = 1000000000+index\n",
    "    url = \"\"\n",
    "    url = start + str(num)[1:] + end\n",
    "    doc = \"\"\n",
    "    \n",
    "    with urllib.request.urlopen(url) as url:\n",
    "        doc = url.read()\n",
    "    \n",
    "   \n",
    "    soup = BeautifulSoup(doc, \"html.parser\")\n",
    "    \n",
    "    word = soup.find_all(\"span\", class_=\"txt_cleanword\")\n",
    "    meaning = soup.find_all(\"span\", class_=\"txt_mean\")\n",
    "    pro = soup.find_all(\"span\", class_=\"txt_pronounce\")\n",
    "    \n",
    "            \n",
    "    word_list.append(word)\n",
    "    meaning_list.append(meaning)\n",
    "    pronounce_list.append(pro)\n",
    "    \n",
    "    #print(word[0].text+' copied')"
   ]
  },
  {
   "cell_type": "code",
   "execution_count": null,
   "metadata": {
    "collapsed": true
   },
   "outputs": [],
   "source": [
    "def pronounce(usa):\n",
    "    pro = str(usa)[str(usa).index('[')+1:str(usa).index(']')]\n",
    "    pattern1 = re.compile(r'<daum:pron>', re.IGNORECASE)\n",
    "    match = pattern1.findall(pro)\n",
    "    if match != []:\n",
    "        pro = re.sub(match[0],'', pro)\n",
    "\n",
    "        \n",
    "    pattern2 = re.compile(r'</daum:pron>', re.IGNORECASE)\n",
    "    match = pattern2.findall(pro)\n",
    "    if match != []:\n",
    "        pro = re.sub(match[0],'', pro)\n",
    "    \n",
    "    pattern3 = re.compile(r'<daum:italic>', re.IGNORECASE)\n",
    "    match = pattern3.findall(pro)\n",
    "    if match != []:\n",
    "        pro = re.sub(match[0],'', pro)\n",
    "    \n",
    "    pattern4 = re.compile(r'</daum:italic>', re.IGNORECASE)\n",
    "    match = pattern4.findall(pro)\n",
    "    if match != []:\n",
    "        pro = re.sub(match[0],'', pro)\n",
    "    \n",
    "    return pro"
   ]
  },
  {
   "cell_type": "code",
   "execution_count": null,
   "metadata": {
    "collapsed": false,
    "scrolled": false
   },
   "outputs": [],
   "source": [
    "import re\n",
    "w_index = 1 # 출력되는 단어의 index\n",
    "\n",
    "\n",
    "for word, meaning, pro in zip(word_list, meaning_list,pronounce_list):\n",
    "    print(w_index,\". \"+word[0].text)\n",
    "\n",
    "    m_index = 1 # 출력되는 의미의 index\n",
    "    for txt in meaning:\n",
    "        print('\\t('+str(m_index)+\"). \"+txt.text)\n",
    "        m_index +=1\n",
    "    \n",
    "    \n",
    "    if pro != []:  \n",
    "        print(\"발음\")\n",
    "        print(\"미국식 = \",pronounce(pro[0]))\n",
    "        print(\"영국식 = \",pronounce(pro[1]))\n",
    "\n",
    "    print('\\n')\n",
    "    w_index +=1\n",
    "    "
   ]
  },
  {
   "cell_type": "code",
   "execution_count": null,
   "metadata": {
    "collapsed": true
   },
   "outputs": [],
   "source": []
  }
 ],
 "metadata": {
  "kernelspec": {
   "display_name": "Python 3",
   "language": "python",
   "name": "python3"
  },
  "language_info": {
   "codemirror_mode": {
    "name": "ipython",
    "version": 3
   },
   "file_extension": ".py",
   "mimetype": "text/x-python",
   "name": "python",
   "nbconvert_exporter": "python",
   "pygments_lexer": "ipython3",
   "version": "3.5.1"
  }
 },
 "nbformat": 4,
 "nbformat_minor": 1
}
