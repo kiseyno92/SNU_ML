{
 "cells": [
  {
   "cell_type": "markdown",
   "metadata": {},
   "source": [
    "### Doc2vec"
   ]
  },
  {
   "cell_type": "code",
   "execution_count": null,
   "metadata": {
    "collapsed": true
   },
   "outputs": [],
   "source": [
    "from gensim.models.doc2vec import TaggedDocument\n",
    "from gensim.models import Doc2Vec\n",
    "import multiprocessing\n",
    "import pandas as pd\n",
    "import pickle\n",
    "from tqdm import tqdm #gang-chu\n",
    "from konlpy.tag import Kkma\n",
    "import pandas as pd"
   ]
  },
  {
   "cell_type": "code",
   "execution_count": null,
   "metadata": {
    "collapsed": false
   },
   "outputs": [],
   "source": [
    "kor_corpus = pd.read_csv(\"한류_연합뉴스.csv\", encoding = 'cp949')"
   ]
  },
  {
   "cell_type": "code",
   "execution_count": null,
   "metadata": {
    "collapsed": false,
    "scrolled": true
   },
   "outputs": [],
   "source": [
    "kor_corpus.head()"
   ]
  },
  {
   "cell_type": "code",
   "execution_count": null,
   "metadata": {
    "collapsed": false
   },
   "outputs": [],
   "source": [
    "len(kor_corpus.contents)"
   ]
  },
  {
   "cell_type": "code",
   "execution_count": null,
   "metadata": {
    "collapsed": false,
    "scrolled": true
   },
   "outputs": [],
   "source": [
    "result = []\n",
    "import time\n",
    "\n",
    "\n",
    "\n",
    "for i, doc in enumerate(kor_corpus.contents[:100]):\n",
    "    try:\n",
    "        start_time = time.time()\n",
    "        result.append([t[0] for t in Kkma().pos(doc) if t[1][0] =='N'])\n",
    "        print(i,\" processed time \",time.time()-start_time)\n",
    "    except:\n",
    "        print(i,\"th doc has error!\")\n"
   ]
  },
  {
   "cell_type": "code",
   "execution_count": null,
   "metadata": {
    "collapsed": true
   },
   "outputs": [],
   "source": [
    "data = pd.DataFrame()\n",
    "data['split'] = result"
   ]
  },
  {
   "cell_type": "code",
   "execution_count": null,
   "metadata": {
    "collapsed": false,
    "scrolled": true
   },
   "outputs": [],
   "source": [
    "data.split"
   ]
  },
  {
   "cell_type": "code",
   "execution_count": null,
   "metadata": {
    "collapsed": false
   },
   "outputs": [],
   "source": [
    "len(data)"
   ]
  },
  {
   "cell_type": "code",
   "execution_count": null,
   "metadata": {
    "collapsed": false
   },
   "outputs": [],
   "source": [
    "documents = []\n",
    "\n",
    "for index, row in tqdm(data.iterrows()):\n",
    "    \"\"\"\n",
    "    document = TaggedDocument(words=['founded', 'incorporated', 'subsidiaries', 'engaged', 'manufacture'], tags=['doc1'])\n",
    "    와 같은 형태이며\n",
    "    위와 같은 document를 documents에 담음\n",
    "    \"\"\"\n",
    "    words = row['split']\n",
    "    document = TaggedDocument(words=words, tags=['doc'+str(index)])\n",
    "    documents.append(document)"
   ]
  },
  {
   "cell_type": "code",
   "execution_count": null,
   "metadata": {
    "collapsed": false
   },
   "outputs": [],
   "source": [
    "# doc2vec model 학습하기\n",
    "\n",
    "mc = 10 # min count 이하 단어 제거\n",
    "w = 5 # window (context) size\n",
    "h = 100 # hidden layer(vector size)\n",
    "sample = 1e-5 # sub-sampling rate\n",
    "\n",
    "model = Doc2Vec(dm=1, #1 이면 PV-DM , 0 은 dbow\n",
    "                dm_mean=1, # average\n",
    "                min_count=mc, \n",
    "                sample=sample,\n",
    "                window=w, size=h, \n",
    "                workers=multiprocessing.cpu_count(), #core 개수\n",
    "                alpha=0.025, min_alpha=0.025)\n",
    "model.build_vocab(documents)\n",
    "\n",
    "epochs = 10 #일반적으로 10번\n",
    "for epoch in range(epochs):\n",
    "    # random.shuffle(documents)  epoch 마다 문서 순서를 섞어 주면 성능이 아주 약간 좋아질 수도 있음\n",
    "    model.train(documents)\n",
    "    model.alpha -= 0.002  # decrease the learning rate\n",
    "    model.min_alpha = model.alpha  # fix the learning rate, no decay"
   ]
  },
  {
   "cell_type": "code",
   "execution_count": null,
   "metadata": {
    "collapsed": false
   },
   "outputs": [],
   "source": [
    "# 특정 단어의 vector return 하기\n",
    "model['서울']"
   ]
  },
  {
   "cell_type": "code",
   "execution_count": null,
   "metadata": {
    "collapsed": false
   },
   "outputs": [],
   "source": [
    "# 학습한 단어간 유사도 계산\n",
    "model.most_similar('서울', topn=15)"
   ]
  },
  {
   "cell_type": "code",
   "execution_count": null,
   "metadata": {
    "collapsed": false
   },
   "outputs": [],
   "source": [
    "# 특정 문서 vector return 하기\n",
    "model.docvecs['doc0']"
   ]
  },
  {
   "cell_type": "code",
   "execution_count": null,
   "metadata": {
    "collapsed": false
   },
   "outputs": [],
   "source": [
    "# 학습한 문서 벡터간 유사도 계산\n",
    "model.docvecs.most_similar('doc1', topn=10)"
   ]
  },
  {
   "cell_type": "code",
   "execution_count": null,
   "metadata": {
    "collapsed": false
   },
   "outputs": [],
   "source": [
    "kor_corpus.contents.iloc[1]"
   ]
  },
  {
   "cell_type": "code",
   "execution_count": null,
   "metadata": {
    "collapsed": false
   },
   "outputs": [],
   "source": [
    "kor_corpus.contents.iloc[3]"
   ]
  },
  {
   "cell_type": "code",
   "execution_count": null,
   "metadata": {
    "collapsed": false
   },
   "outputs": [],
   "source": [
    "kor_corpus.contents.iloc[12]"
   ]
  }
 ],
 "metadata": {
  "kernelspec": {
   "display_name": "Python 3",
   "language": "python",
   "name": "python3"
  },
  "language_info": {
   "codemirror_mode": {
    "name": "ipython",
    "version": 3
   },
   "file_extension": ".py",
   "mimetype": "text/x-python",
   "name": "python",
   "nbconvert_exporter": "python",
   "pygments_lexer": "ipython3",
   "version": "3.5.1"
  }
 },
 "nbformat": 4,
 "nbformat_minor": 0
}
