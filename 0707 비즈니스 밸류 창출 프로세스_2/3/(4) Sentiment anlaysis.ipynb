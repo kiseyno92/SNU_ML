{
 "cells": [
  {
   "cell_type": "markdown",
   "metadata": {},
   "source": [
    "### 감성분석"
   ]
  },
  {
   "cell_type": "code",
   "execution_count": null,
   "metadata": {
    "collapsed": false
   },
   "outputs": [],
   "source": [
    "import pandas as pd\n",
    "import numpy as np\n",
    "\n",
    "sentiment_data = pd.read_csv(\"naver_ratings.txt\",sep='\\t')"
   ]
  },
  {
   "cell_type": "code",
   "execution_count": null,
   "metadata": {
    "collapsed": false
   },
   "outputs": [],
   "source": [
    "# 네이버 평점 기준 label == 1(긍정) 0(부정)\n",
    "sentiment_data.head()"
   ]
  },
  {
   "cell_type": "code",
   "execution_count": null,
   "metadata": {
    "collapsed": true
   },
   "outputs": [],
   "source": [
    "# select random sample data\n",
    "def select_reviews(data, num,label):\n",
    "    label_data = data[data.label==label].reset_index()\n",
    "    index = np.random.randint(100000,size=num)\n",
    "    return label_data.ix[index]"
   ]
  },
  {
   "cell_type": "code",
   "execution_count": null,
   "metadata": {
    "collapsed": false
   },
   "outputs": [],
   "source": [
    "# postive and negative data random sampling\n",
    "positive_data = select_reviews(sentiment_data,100,1)\n",
    "negative_data = select_reviews(sentiment_data,100,0)"
   ]
  },
  {
   "cell_type": "code",
   "execution_count": null,
   "metadata": {
    "collapsed": false
   },
   "outputs": [],
   "source": [
    "# head of sample positive data\n",
    "positive_data.head()"
   ]
  },
  {
   "cell_type": "code",
   "execution_count": null,
   "metadata": {
    "collapsed": false
   },
   "outputs": [],
   "source": [
    "# head of sample negative data\n",
    "negative_data.head()"
   ]
  },
  {
   "cell_type": "code",
   "execution_count": null,
   "metadata": {
    "collapsed": true
   },
   "outputs": [],
   "source": [
    "# documents merging\n",
    "\n",
    "def doc_merge(data):\n",
    "    merged_docs = []\n",
    "    \n",
    "    for doc in data[\"document\"]:\n",
    "            merged_docs.append(doc)\n",
    "\n",
    "    return merged_docs"
   ]
  },
  {
   "cell_type": "code",
   "execution_count": null,
   "metadata": {
    "collapsed": true
   },
   "outputs": [],
   "source": [
    "positive_merged_doc = doc_merge(positive_data)\n",
    "negative_merged_doc = doc_merge(negative_data)"
   ]
  },
  {
   "cell_type": "code",
   "execution_count": null,
   "metadata": {
    "collapsed": false
   },
   "outputs": [],
   "source": [
    "positive_merged_doc[0]"
   ]
  },
  {
   "cell_type": "markdown",
   "metadata": {},
   "source": [
    "### 형용사 = { 관형사, 부사}로 생각하고 kkma tag 기준 M으로 시작하는 tag만 추출 했습니다"
   ]
  },
  {
   "cell_type": "code",
   "execution_count": null,
   "metadata": {
    "collapsed": false
   },
   "outputs": [],
   "source": [
    "from konlpy.tag import Kkma\n",
    "\n",
    "kkma = Kkma()\n",
    "positive_pos = []\n",
    "\n",
    "for doc in positive_merged_doc:\n",
    "    for pos in kkma.pos(doc):\n",
    "        if pos[1][0]=='M':\n",
    "            positive_pos.append(pos[0])\n",
    "            \n",
    "negative_pos = []\n",
    "\n",
    "for doc in negative_merged_doc:\n",
    "    for pos in kkma.pos(doc):\n",
    "        if pos[1][0]=='M':\n",
    "            negative_pos.append(pos[0])"
   ]
  },
  {
   "cell_type": "code",
   "execution_count": null,
   "metadata": {
    "collapsed": true
   },
   "outputs": [],
   "source": [
    "from sklearn.feature_extraction.text import CountVectorizer\n",
    "from wordcloud import WordCloud\n",
    "from sklearn.feature_extraction.text import TfidfTransformer\n",
    "wordcloud = WordCloud(font_path = r'C:\\Windows\\Fonts\\Daum_SemiBold.ttf')\n",
    "\n",
    "vectorizer = CountVectorizer(min_df=1)\n",
    "pos_bow = vectorizer.fit_transform(positive_pos)\n",
    "transformer = TfidfTransformer()\n",
    "tfidf = transformer.fit_transform(pos_bow.toarray())\n",
    "\n",
    "word_tf = zip(vectorizer.get_feature_names(),pos_bow.toarray()[1])"
   ]
  },
  {
   "cell_type": "markdown",
   "metadata": {},
   "source": [
    "### 긍정 리뷰에 대한 wordcloud"
   ]
  },
  {
   "cell_type": "code",
   "execution_count": null,
   "metadata": {
    "collapsed": false
   },
   "outputs": [],
   "source": [
    "wordcloud.generate_from_frequencies(word_tf).to_image()"
   ]
  },
  {
   "cell_type": "code",
   "execution_count": null,
   "metadata": {
    "collapsed": false
   },
   "outputs": [],
   "source": [
    "vectorizer = CountVectorizer(min_df=1)\n",
    "neg_bow = vectorizer.fit_transform(negative_pos)\n",
    "transformer = TfidfTransformer()\n",
    "tfidf = transformer.fit_transform(neg_bow.toarray())\n",
    "\n",
    "word_tf = zip(vectorizer.get_feature_names(),neg_bow.toarray()[1])"
   ]
  },
  {
   "cell_type": "markdown",
   "metadata": {},
   "source": [
    "### 부정 리뷰에 대한 wordcloud"
   ]
  },
  {
   "cell_type": "code",
   "execution_count": null,
   "metadata": {
    "collapsed": false
   },
   "outputs": [],
   "source": [
    "wordcloud.generate_from_frequencies(word_tf).to_image()"
   ]
  },
  {
   "cell_type": "markdown",
   "metadata": {},
   "source": [
    "## 리뷰 긍부정 분류"
   ]
  },
  {
   "cell_type": "code",
   "execution_count": null,
   "metadata": {
    "collapsed": false,
    "scrolled": true
   },
   "outputs": [],
   "source": [
    "#positive_data2 = select_reviews(sentiment_data,1000,1)\n",
    "#negative_data2 = select_reviews(sentiment_data,1000,0)\n",
    "\n",
    "positive_data.head()\n",
    "positive_pos"
   ]
  },
  {
   "cell_type": "code",
   "execution_count": null,
   "metadata": {
    "collapsed": false
   },
   "outputs": [],
   "source": [
    "# data merge\n",
    "total_data = pd.concat((positive_data,negative_data))"
   ]
  },
  {
   "cell_type": "code",
   "execution_count": null,
   "metadata": {
    "collapsed": false
   },
   "outputs": [],
   "source": [
    "print(len(positive_data), len(negative_data), len(total_data))"
   ]
  },
  {
   "cell_type": "code",
   "execution_count": null,
   "metadata": {
    "collapsed": false
   },
   "outputs": [],
   "source": [
    "X = total_data['document']\n",
    "y = total_data['label']"
   ]
  },
  {
   "cell_type": "code",
   "execution_count": null,
   "metadata": {
    "collapsed": false
   },
   "outputs": [],
   "source": [
    "# bow matrix generate & training_test split\n",
    "from sklearn.cross_validation import train_test_split\n",
    "\n",
    "vectorizer = CountVectorizer(min_df=1)\n",
    "bow = vectorizer.fit_transform(X)\n",
    "X_trn, X_tst, y_trn, y_tst = train_test_split(bow, y,test_size = 0.3)"
   ]
  },
  {
   "cell_type": "markdown",
   "metadata": {},
   "source": [
    "### model 학습"
   ]
  },
  {
   "cell_type": "code",
   "execution_count": null,
   "metadata": {
    "collapsed": false
   },
   "outputs": [],
   "source": [
    "from sklearn import linear_model\n",
    "\n",
    "model = linear_model.LogisticRegression(penalty='l2')\n",
    "model.fit(X_trn,y_trn)"
   ]
  },
  {
   "cell_type": "code",
   "execution_count": null,
   "metadata": {
    "collapsed": true
   },
   "outputs": [],
   "source": [
    "y_pred = model.predict(X_tst)"
   ]
  },
  {
   "cell_type": "markdown",
   "metadata": {},
   "source": [
    "### 성능 평가 - accuracy"
   ]
  },
  {
   "cell_type": "code",
   "execution_count": null,
   "metadata": {
    "collapsed": false
   },
   "outputs": [],
   "source": [
    "from sklearn.metrics import confusion_matrix\n",
    "conf_mat = confusion_matrix(y_tst,y_pred)"
   ]
  },
  {
   "cell_type": "code",
   "execution_count": null,
   "metadata": {
    "collapsed": false
   },
   "outputs": [],
   "source": [
    "acc = (conf_mat[0,0] + conf_mat[1,1])/sum(sum(conf_mat))\n",
    "print(\"accuracy = %f\"%acc)"
   ]
  },
  {
   "cell_type": "markdown",
   "metadata": {},
   "source": [
    "### test - 긍정1, 부정1 review에 대해"
   ]
  },
  {
   "cell_type": "code",
   "execution_count": null,
   "metadata": {
    "collapsed": true
   },
   "outputs": [],
   "source": [
    "test_sentiment = ['꼭 보세요 강추합니다 한번 더 보고 싶은 영화에요', '내가 이걸 왜 봤는지 모르겠다. 사전에 검색좀 해보고 볼걸 아.. 짜증나']"
   ]
  },
  {
   "cell_type": "code",
   "execution_count": null,
   "metadata": {
    "collapsed": false
   },
   "outputs": [],
   "source": [
    "# 기존 vocabulary를 가지고 새로운 bow matrix 만들기\n",
    "vectorizer2 = CountVectorizer(min_df=1,vocabulary = vectorizer.vocabulary_)"
   ]
  },
  {
   "cell_type": "code",
   "execution_count": null,
   "metadata": {
    "collapsed": false
   },
   "outputs": [],
   "source": [
    "new_input = vectorizer2.fit_transform(test_sentiment)\n",
    "print(new_input.get_shape())"
   ]
  },
  {
   "cell_type": "code",
   "execution_count": null,
   "metadata": {
    "collapsed": false
   },
   "outputs": [],
   "source": [
    "model.predict_proba(new_input.toarray())"
   ]
  }
 ],
 "metadata": {
  "kernelspec": {
   "display_name": "Python 3",
   "language": "python",
   "name": "python3"
  },
  "language_info": {
   "codemirror_mode": {
    "name": "ipython",
    "version": 3
   },
   "file_extension": ".py",
   "mimetype": "text/x-python",
   "name": "python",
   "nbconvert_exporter": "python",
   "pygments_lexer": "ipython3",
   "version": "3.5.1"
  }
 },
 "nbformat": 4,
 "nbformat_minor": 0
}
