{
 "cells": [
  {
   "cell_type": "code",
   "execution_count": 1,
   "metadata": {
    "collapsed": true
   },
   "outputs": [],
   "source": [
    "import tensorflow as tf\n",
    "import matplotlib.pyplot as plt\n",
    "tf.set_random_seed(777)"
   ]
  },
  {
   "cell_type": "code",
   "execution_count": 2,
   "metadata": {
    "collapsed": true
   },
   "outputs": [],
   "source": [
    "x_train = [1,2,3]\n",
    "y_train = [1,2,3]\n"
   ]
  },
  {
   "cell_type": "code",
   "execution_count": 3,
   "metadata": {
    "collapsed": false
   },
   "outputs": [
    {
     "data": {
      "image/png": "[encoded data removed]",
      "text/plain": [
       "<matplotlib.figure.Figure at 0x212c03da400>"
      ]
     },
     "metadata": {},
     "output_type": "display_data"
    }
   ],
   "source": [
    "plt.plot(x_train, y_train)\n",
    "plt.grid()\n",
    "plt.show()"
   ]
  },
  {
   "cell_type": "code",
   "execution_count": 4,
   "metadata": {
    "collapsed": true
   },
   "outputs": [],
   "source": [
    "W = tf.Variable(tf.random_normal([1]), name = 'Weight')\n",
    "b = tf.Variable(tf.random_normal([1]), name = 'bias')\n"
   ]
  },
  {
   "cell_type": "code",
   "execution_count": 5,
   "metadata": {
    "collapsed": true
   },
   "outputs": [],
   "source": [
    "hypothesis = x_train *W +b"
   ]
  },
  {
   "cell_type": "code",
   "execution_count": 6,
   "metadata": {
    "collapsed": true
   },
   "outputs": [],
   "source": [
    "cost = tf.reduce_mean(tf.square(hypothesis - y_train))"
   ]
  },
  {
   "cell_type": "code",
   "execution_count": 8,
   "metadata": {
    "collapsed": false
   },
   "outputs": [],
   "source": [
    "optimizer = tf.train.GradientDescentOptimizer(learning_rate = 0.01)\n",
    "train = optimizer.minimize(cost)\n"
   ]
  },
  {
   "cell_type": "code",
   "execution_count": 9,
   "metadata": {
    "collapsed": false
   },
   "outputs": [
    {
     "name": "stdout",
     "output_type": "stream",
     "text": [
      "0 2.82329 [ 2.12867713] [-0.85235667]\n",
      "100 0.113226 [ 1.39081788] [-0.88840771]\n",
      "200 0.0699668 [ 1.30721486] [-0.69837117]\n",
      "300 0.0432353 [ 1.24149871] [-0.54898357]\n",
      "400 0.0267167 [ 1.18983996] [-0.4315508]\n",
      "500 0.0165093 [ 1.14923155] [-0.33923826]\n",
      "600 0.0102017 [ 1.11730957] [-0.26667204]\n",
      "700 0.00630405 [ 1.0922159] [-0.20962858]\n",
      "800 0.00389553 [ 1.07249022] [-0.16478711]\n",
      "900 0.00240721 [ 1.05698395] [-0.12953788]\n",
      "1000 0.0014875 [ 1.04479456] [-0.10182849]\n",
      "1100 0.000919187 [ 1.03521252] [-0.08004645]\n",
      "1200 0.000567998 [ 1.02768016] [-0.06292368]\n",
      "1300 0.00035099 [ 1.02175927] [-0.04946378]\n",
      "1400 0.000216891 [ 1.01710474] [-0.03888312]\n",
      "1500 0.000134025 [ 1.01344585] [-0.03056567]\n",
      "1600 8.28196e-05 [ 1.01056981] [-0.02402747]\n",
      "1700 5.11766e-05 [ 1.00830877] [-0.01888768]\n",
      "1800 3.16242e-05 [ 1.00653136] [-0.01484741]\n",
      "1900 1.95421e-05 [ 1.00513422] [-0.01167146]\n",
      "2000 1.20761e-05 [ 1.00403607] [-0.00917497]\n"
     ]
    }
   ],
   "source": [
    "with tf.Session() as sess:\n",
    "    sess.run(tf.global_variables_initializer())\n",
    "    for step in range(2001):\n",
    "        sess.run(train)\n",
    "        if step%100 == 0:\n",
    "            print(step, sess.run(cost),sess.run(W),sess.run(b))"
   ]
  },
  {
   "cell_type": "code",
   "execution_count": null,
   "metadata": {
    "collapsed": true
   },
   "outputs": [],
   "source": []
  }
 ],
 "metadata": {
  "anaconda-cloud": {},
  "kernelspec": {
   "display_name": "Python [conda root]",
   "language": "python",
   "name": "conda-root-py"
  },
  "language_info": {
   "codemirror_mode": {
    "name": "ipython",
    "version": 3
   },
   "file_extension": ".py",
   "mimetype": "text/x-python",
   "name": "python",
   "nbconvert_exporter": "python",
   "pygments_lexer": "ipython3",
   "version": "3.5.2"
  }
 },
 "nbformat": 4,
 "nbformat_minor": 1
}
