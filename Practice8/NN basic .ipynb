{
 "cells": [
  {
   "cell_type": "code",
   "execution_count": 9,
   "metadata": {
    "collapsed": true
   },
   "outputs": [],
   "source": [
    "import tensorflow as tf\n",
    "import numpy as np\n",
    "x_data = np.array([[0,0],[0,1],[1,0],[1,1]], dtype = np.float32)\n"
   ]
  },
  {
   "cell_type": "code",
   "execution_count": 10,
   "metadata": {
    "collapsed": true
   },
   "outputs": [],
   "source": [
    "y_data = np.array([[0],[1],[1],[0]], dtype = np.float32)\n",
    "\n",
    "\n",
    "X = tf.placeholder(tf.float32, [None,2])\n",
    "Y = tf.placeholder(tf.float32, [None,1])\n",
    "\n",
    "\n",
    "\n"
   ]
  },
  {
   "cell_type": "code",
   "execution_count": 11,
   "metadata": {
    "collapsed": true
   },
   "outputs": [],
   "source": [
    "W1 = tf.Variable(tf.random_normal([2,2]), name = 'weight1')\n",
    "b1 = tf.Variable(tf.random_normal([2]), name = 'bias1')\n",
    "layer1 = tf.sigmoid(tf.matmul(X,W1)+b1)"
   ]
  },
  {
   "cell_type": "code",
   "execution_count": 12,
   "metadata": {
    "collapsed": true
   },
   "outputs": [],
   "source": [
    "W2 = tf.Variable(tf.random_normal([2,1]), name = 'weight2')\n",
    "b2 = tf.Variable(tf.random_normal([1]), name = 'bias2')"
   ]
  },
  {
   "cell_type": "code",
   "execution_count": 13,
   "metadata": {
    "collapsed": true
   },
   "outputs": [],
   "source": [
    "hypothesis = tf.sigmoid(tf.matmul(layer1,W2)+b2)\n"
   ]
  },
  {
   "cell_type": "code",
   "execution_count": 14,
   "metadata": {
    "collapsed": true
   },
   "outputs": [],
   "source": [
    "cost = -tf.reduce_mean(Y*tf.log(hypothesis)+(1-Y)*tf.log(1-hypothesis))\n"
   ]
  },
  {
   "cell_type": "code",
   "execution_count": 18,
   "metadata": {
    "collapsed": true
   },
   "outputs": [],
   "source": [
    "train = tf.train.GradientDescentOptimizer(learning_rate = 0.01).minimize(cost)"
   ]
  },
  {
   "cell_type": "code",
   "execution_count": 19,
   "metadata": {
    "collapsed": true
   },
   "outputs": [],
   "source": [
    "predicted = tf.cast(hypothesis>0.5, dtype = tf.float32)\n",
    "accuracy = tf.reduce_mean(tf.cast(tf.equal(predicted,Y),dtype = tf.float32))"
   ]
  },
  {
   "cell_type": "code",
   "execution_count": 20,
   "metadata": {
    "collapsed": false
   },
   "outputs": [
    {
     "name": "stdout",
     "output_type": "stream",
     "text": [
      "0 0.838846 [array([[ 0.83711594,  0.01335154],\n",
      "       [-0.22521698, -0.2171755 ]], dtype=float32), array([[ 0.83711594,  0.01335154],\n",
      "       [-0.22521698, -0.2171755 ]], dtype=float32)]\n",
      "100 0.757547 [array([[ 0.82539535,  0.02334603],\n",
      "       [-0.22936451, -0.20665795]], dtype=float32), array([[ 0.82539535,  0.02334603],\n",
      "       [-0.22936451, -0.20665795]], dtype=float32)]\n",
      "200 0.720887 [array([[ 0.81774074,  0.03017185],\n",
      "       [-0.22908856, -0.19897534]], dtype=float32), array([[ 0.81774074,  0.03017185],\n",
      "       [-0.22908856, -0.19897534]], dtype=float32)]\n",
      "300 0.705351 [array([[ 0.81258547,  0.03439552],\n",
      "       [-0.22631201, -0.19361711]], dtype=float32), array([[ 0.81258547,  0.03439552],\n",
      "       [-0.22631201, -0.19361711]], dtype=float32)]\n",
      "400 0.698937 [array([[ 0.80891883,  0.03673161],\n",
      "       [-0.22217759, -0.18994629]], dtype=float32), array([[ 0.80891883,  0.03673161],\n",
      "       [-0.22217759, -0.18994629]], dtype=float32)]\n",
      "500 0.696307 [array([[ 0.80614465,  0.03778163],\n",
      "       [-0.21730696, -0.18742873]], dtype=float32), array([[ 0.80614465,  0.03778163],\n",
      "       [-0.21730696, -0.18742873]], dtype=float32)]\n",
      "600 0.69522 [array([[ 0.8039192 ,  0.0379835 ],\n",
      "       [-0.21203369, -0.18567578]], dtype=float32), array([[ 0.8039192 ,  0.0379835 ],\n",
      "       [-0.21203369, -0.18567578]], dtype=float32)]\n",
      "700 0.694757 [array([[ 0.80204087,  0.03763609],\n",
      "       [-0.20654052, -0.18442231]], dtype=float32), array([[ 0.80204087,  0.03763609],\n",
      "       [-0.20654052, -0.18442231]], dtype=float32)]\n",
      "800 0.694546 [array([[ 0.80038995,  0.03693682],\n",
      "       [-0.20093049, -0.18349291]], dtype=float32), array([[ 0.80038995,  0.03693682],\n",
      "       [-0.20093049, -0.18349291]], dtype=float32)]\n",
      "900 0.694437 [array([[ 0.79889357,  0.03601391],\n",
      "       [-0.19526316, -0.18277363]], dtype=float32), array([[ 0.79889357,  0.03601391],\n",
      "       [-0.19526316, -0.18277363]], dtype=float32)]\n",
      "1000 0.69437 [array([[ 0.79750717,  0.03494977],\n",
      "       [-0.18957375, -0.18219133]], dtype=float32), array([[ 0.79750717,  0.03494977],\n",
      "       [-0.18957375, -0.18219133]], dtype=float32)]\n",
      "1100 0.69432 [array([[ 0.79620296,  0.03379714],\n",
      "       [-0.18388341, -0.18169896]], dtype=float32), array([[ 0.79620296,  0.03379714],\n",
      "       [-0.18388341, -0.18169896]], dtype=float32)]\n",
      "1200 0.694278 [array([[ 0.7949633 ,  0.03258957],\n",
      "       [-0.17820482, -0.18126662]], dtype=float32), array([[ 0.7949633 ,  0.03258957],\n",
      "       [-0.17820482, -0.18126662]], dtype=float32)]\n",
      "1300 0.694238 [array([[ 0.79377729,  0.03134842],\n",
      "       [-0.17254558, -0.18087523]], dtype=float32), array([[ 0.79377729,  0.03134842],\n",
      "       [-0.17254558, -0.18087523]], dtype=float32)]\n",
      "1400 0.6942 [array([[ 0.79263759,  0.03008722],\n",
      "       [-0.16691026, -0.18051271]], dtype=float32), array([[ 0.79263759,  0.03008722],\n",
      "       [-0.16691026, -0.18051271]], dtype=float32)]\n",
      "1500 0.694164 [array([[ 0.79153985,  0.02881453],\n",
      "       [-0.16130139, -0.18017142]], dtype=float32), array([[ 0.79153985,  0.02881453],\n",
      "       [-0.16130139, -0.18017142]], dtype=float32)]\n",
      "1600 0.694127 [array([[ 0.79048061,  0.02753575],\n",
      "       [-0.15572037, -0.17984642]], dtype=float32), array([[ 0.79048061,  0.02753575],\n",
      "       [-0.15572037, -0.17984642]], dtype=float32)]\n",
      "1700 0.694092 [array([[ 0.78945822,  0.02625432],\n",
      "       [-0.15016785, -0.17953467]], dtype=float32), array([[ 0.78945822,  0.02625432],\n",
      "       [-0.15016785, -0.17953467]], dtype=float32)]\n",
      "1800 0.694057 [array([[ 0.78847104,  0.02497235],\n",
      "       [-0.14464399, -0.17923425]], dtype=float32), array([[ 0.78847104,  0.02497235],\n",
      "       [-0.14464399, -0.17923425]], dtype=float32)]\n",
      "1900 0.694023 [array([[ 0.78751802,  0.02369123],\n",
      "       [-0.1391487 , -0.17894386]], dtype=float32), array([[ 0.78751802,  0.02369123],\n",
      "       [-0.1391487 , -0.17894386]], dtype=float32)]\n",
      "\n",
      "Hypothsis: [[ 0.49143434]\n",
      " [ 0.49386162]\n",
      " [ 0.50438416]\n",
      " [ 0.50829643]] \n",
      "predicted: [[ 0.]\n",
      " [ 0.]\n",
      " [ 1.]\n",
      " [ 1.]] \n",
      "accuracy: 0.5\n"
     ]
    }
   ],
   "source": [
    "with tf.Session() as sess:\n",
    "    sess.run(tf.global_variables_initializer())\n",
    "    \n",
    "    for step in range(2000):\n",
    "        sess.run(train, feed_dict = {X:x_data, Y: y_data})\n",
    "        if step %100 ==0:\n",
    "            print(step, sess.run(cost,feed_dict = {X:x_data, Y:y_data}), sess.run([W1,W1]))\n",
    "    h,p,a = sess.run([hypothesis, predicted, accuracy], feed_dict ={X:x_data, Y: y_data})\n",
    "    print ('\\nHypothsis:',h,'\\npredicted:',p,'\\naccuracy:',a)"
   ]
  },
  {
   "cell_type": "code",
   "execution_count": null,
   "metadata": {
    "collapsed": true
   },
   "outputs": [],
   "source": []
  }
 ],
 "metadata": {
  "kernelspec": {
   "display_name": "Python [conda root]",
   "language": "python",
   "name": "conda-root-py"
  },
  "language_info": {
   "codemirror_mode": {
    "name": "ipython",
    "version": 3
   },
   "file_extension": ".py",
   "mimetype": "text/x-python",
   "name": "python",
   "nbconvert_exporter": "python",
   "pygments_lexer": "ipython3",
   "version": "3.5.2"
  }
 },
 "nbformat": 4,
 "nbformat_minor": 1
}
