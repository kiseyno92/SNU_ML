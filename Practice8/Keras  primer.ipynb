{
 "cells": [
  {
   "cell_type": "code",
   "execution_count": 1,
   "metadata": {
    "collapsed": false
   },
   "outputs": [
    {
     "name": "stderr",
     "output_type": "stream",
     "text": [
      "Using TensorFlow backend.\n"
     ]
    }
   ],
   "source": [
    "import keras \n",
    "import numpy as np"
   ]
  },
  {
   "cell_type": "code",
   "execution_count": 2,
   "metadata": {
    "collapsed": true
   },
   "outputs": [],
   "source": [
    "from keras.datasets import boston_housing, mnist , cifar10, imdb"
   ]
  },
  {
   "cell_type": "code",
   "execution_count": 4,
   "metadata": {
    "collapsed": false
   },
   "outputs": [
    {
     "name": "stdout",
     "output_type": "stream",
     "text": [
      "Downloading data from https://s3.amazonaws.com/keras-datasets/boston_housing.npz\n",
      "40960/57026 [====================>.........] - ETA: 0s"
     ]
    }
   ],
   "source": [
    "(x_train, y_train), (x_test, y_test) = boston_housing.load_data()"
   ]
  },
  {
   "cell_type": "code",
   "execution_count": 5,
   "metadata": {
    "collapsed": false
   },
   "outputs": [
    {
     "name": "stdout",
     "output_type": "stream",
     "text": [
      "(404, 13)\n",
      "(102, 13)\n"
     ]
    }
   ],
   "source": [
    "print(x_train.shape)\n",
    "print(x_test.shape)"
   ]
  },
  {
   "cell_type": "code",
   "execution_count": 7,
   "metadata": {
    "collapsed": false
   },
   "outputs": [
    {
     "name": "stdout",
     "output_type": "stream",
     "text": [
      "(404,)\n",
      "(102,)\n"
     ]
    }
   ],
   "source": [
    "print(y_train.shape)\n",
    "print(y_test.shape)"
   ]
  },
  {
   "cell_type": "code",
   "execution_count": 8,
   "metadata": {
    "collapsed": true
   },
   "outputs": [],
   "source": [
    "from keras.models import Sequential # model 이름 t순차적으로 들어 간다는 뜻\n",
    "from keras.layers import Dense  # fully connected layer\n",
    "from keras import losses\n",
    "from sklearn.metrics import mean_squared_error"
   ]
  },
  {
   "cell_type": "code",
   "execution_count": 26,
   "metadata": {
    "collapsed": true
   },
   "outputs": [],
   "source": [
    "model = Sequential()\n",
    "model.add(Dense(13, input_dim =x_train.shape[1], kernel_initializer = 'normal', activation ='relu'))\n",
    "model.add(Dense(9,kernel_initializer = 'normal', activation ='relu'))\n",
    "model.add(Dense(7,kernel_initializer = 'normal', activation ='relu'))\n",
    "model.add(Dense(3,kernel_initializer = 'normal', activation ='relu'))\n",
    "model.add(Dense(1,kernel_initializer = 'normal'))\n",
    "#텐서플로는 bias등 여러가지 설정을 해주어야 하지만 keras는 그냥 모델만 설정해주면 간편히 만든다."
   ]
  },
  {
   "cell_type": "code",
   "execution_count": 27,
   "metadata": {
    "collapsed": true
   },
   "outputs": [],
   "source": [
    "model.compile(loss = 'mean_squared_error', optimizer = 'adam')"
   ]
  },
  {
   "cell_type": "code",
   "execution_count": 28,
   "metadata": {
    "collapsed": false
   },
   "outputs": [
    {
     "name": "stdout",
     "output_type": "stream",
     "text": [
      "Epoch 1/15\n",
      "404/404 [==============================] - 0s - loss: 585.8495     \n",
      "Epoch 2/15\n",
      "404/404 [==============================] - 0s - loss: 584.9909     \n",
      "Epoch 3/15\n",
      "404/404 [==============================] - 0s - loss: 583.1758     \n",
      "Epoch 4/15\n",
      "404/404 [==============================] - 0s - loss: 577.0550     \n",
      "Epoch 5/15\n",
      "404/404 [==============================] - 0s - loss: 556.4622     \n",
      "Epoch 6/15\n",
      "404/404 [==============================] - 0s - loss: 496.2252     \n",
      "Epoch 7/15\n",
      "404/404 [==============================] - 0s - loss: 366.2123     \n",
      "Epoch 8/15\n",
      "404/404 [==============================] - 0s - loss: 182.4815     \n",
      "Epoch 9/15\n",
      "404/404 [==============================] - 0s - loss: 138.2685     \n",
      "Epoch 10/15\n",
      "404/404 [==============================] - 0s - loss: 127.6726     \n",
      "Epoch 11/15\n",
      "404/404 [==============================] - 0s - loss: 120.9002    \n",
      "Epoch 12/15\n",
      "404/404 [==============================] - 0s - loss: 115.9808     \n",
      "Epoch 13/15\n",
      "404/404 [==============================] - 0s - loss: 111.9896     \n",
      "Epoch 14/15\n",
      "404/404 [==============================] - 0s - loss: 107.8595     \n",
      "Epoch 15/15\n",
      "404/404 [==============================] - 0s - loss: 104.2278     \n"
     ]
    },
    {
     "data": {
      "text/plain": [
       "<keras.callbacks.History at 0x1d184fb5ba8>"
      ]
     },
     "execution_count": 28,
     "metadata": {},
     "output_type": "execute_result"
    }
   ],
   "source": [
    "model.fit(x_train, y_train, batch_size =30, epochs = 15, verbose =1)"
   ]
  },
  {
   "cell_type": "code",
   "execution_count": 18,
   "metadata": {
    "collapsed": true
   },
   "outputs": [],
   "source": [
    "y_pred = model.predict(x_test)"
   ]
  },
  {
   "cell_type": "code",
   "execution_count": 19,
   "metadata": {
    "collapsed": false
   },
   "outputs": [
    {
     "data": {
      "text/plain": [
       "119.88628633176269"
      ]
     },
     "execution_count": 19,
     "metadata": {},
     "output_type": "execute_result"
    }
   ],
   "source": [
    "mean_squared_error(y_pred, y_test)"
   ]
  },
  {
   "cell_type": "code",
   "execution_count": null,
   "metadata": {
    "collapsed": true
   },
   "outputs": [],
   "source": []
  }
 ],
 "metadata": {
  "anaconda-cloud": {},
  "kernelspec": {
   "display_name": "Python [conda root]",
   "language": "python",
   "name": "conda-root-py"
  },
  "language_info": {
   "codemirror_mode": {
    "name": "ipython",
    "version": 3
   },
   "file_extension": ".py",
   "mimetype": "text/x-python",
   "name": "python",
   "nbconvert_exporter": "python",
   "pygments_lexer": "ipython3",
   "version": "3.5.2"
  }
 },
 "nbformat": 4,
 "nbformat_minor": 1
}
