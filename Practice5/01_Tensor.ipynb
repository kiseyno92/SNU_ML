{
 "cells": [
  {
   "cell_type": "markdown",
   "metadata": {},
   "source": [
    "# 01_Tensor"
   ]
  },
  {
   "cell_type": "code",
   "execution_count": 1,
   "metadata": {
    "ExecuteTime": {
     "end_time": "2017-08-03T16:44:21.775143Z",
     "start_time": "2017-08-03T16:44:21.252099Z"
    }
   },
   "outputs": [
    {
     "data": {
      "text/plain": [
       "<torch._C.Generator at 0x7f98a4171258>"
      ]
     },
     "execution_count": 1,
     "metadata": {},
     "output_type": "execute_result"
    }
   ],
   "source": [
    "import numpy as np\n",
    "import torch\n",
    "torch.manual_seed(1)"
   ]
  },
  {
   "cell_type": "markdown",
   "metadata": {},
   "source": [
    "## Tensor is a matrix!"
   ]
  },
  {
   "cell_type": "code",
   "execution_count": 2,
   "metadata": {
    "ExecuteTime": {
     "end_time": "2017-08-03T15:35:39.387289Z",
     "start_time": "2017-08-03T15:35:39.375876Z"
    },
    "scrolled": true
   },
   "outputs": [
    {
     "name": "stdout",
     "output_type": "stream",
     "text": [
      "\n",
      "-2.7727e-29  4.5779e-41\n",
      "-2.7727e-29  4.5779e-41\n",
      "[torch.FloatTensor of size 2x2]\n",
      "\n"
     ]
    },
    {
     "data": {
      "text/plain": [
       "('torch.FloatTensor', torch.Size([2, 2]), 4)"
      ]
     },
     "execution_count": 2,
     "metadata": {},
     "output_type": "execute_result"
    }
   ],
   "source": [
    "x = torch.Tensor(2,2) # 2D Tensor\n",
    "print(x)\n",
    "x.type(), x.size(), x.numel()"
   ]
  },
  {
   "cell_type": "code",
   "execution_count": 3,
   "metadata": {
    "ExecuteTime": {
     "end_time": "2017-08-03T15:35:40.885457Z",
     "start_time": "2017-08-03T15:35:40.874102Z"
    }
   },
   "outputs": [
    {
     "name": "stdout",
     "output_type": "stream",
     "text": [
      "\n",
      "(0 ,.,.) = \n",
      "1.00000e-29 *\n",
      "  -2.7727  0.0000 -2.7727\n",
      "   0.0000  0.0000  0.0000\n",
      "   0.0000  0.0000  0.0000\n",
      "\n",
      "(1 ,.,.) = \n",
      "1.00000e-29 *\n",
      "   0.0000  0.0000  0.0000\n",
      "   0.0000  0.0000  0.0000\n",
      "   0.0000  0.0000  0.0000\n",
      "\n",
      "(2 ,.,.) = \n",
      "1.00000e-29 *\n",
      "   0.0000  0.0000  0.0000\n",
      "   0.0000  0.0000  0.0000\n",
      "  -2.7727  0.0000  0.0000\n",
      "[torch.FloatTensor of size 3x3x3]\n",
      "\n"
     ]
    },
    {
     "data": {
      "text/plain": [
       "('torch.FloatTensor', torch.Size([3, 3, 3]), 27)"
      ]
     },
     "execution_count": 3,
     "metadata": {},
     "output_type": "execute_result"
    }
   ],
   "source": [
    "y = torch.Tensor(3,3,3) # 3D Tensor\n",
    "print(y)\n",
    "y.type(), y.size(), y.numel()"
   ]
  },
  {
   "cell_type": "markdown",
   "metadata": {
    "ExecuteTime": {
     "end_time": "2017-08-03T12:34:51.726159Z",
     "start_time": "2017-08-03T12:34:51.718763Z"
    }
   },
   "source": [
    "## A few methods to create a Tensor"
   ]
  },
  {
   "cell_type": "code",
   "execution_count": 4,
   "metadata": {
    "ExecuteTime": {
     "end_time": "2017-08-03T15:35:59.962629Z",
     "start_time": "2017-08-03T15:35:59.952216Z"
    }
   },
   "outputs": [
    {
     "data": {
      "text/plain": [
       "(\n",
       "  1  1  1\n",
       "  1  1  1\n",
       "  1  1  1\n",
       " [torch.FloatTensor of size 3x3], \n",
       "  0  0  0\n",
       "  0  0  0\n",
       "  0  0  0\n",
       " [torch.FloatTensor of size 3x3], \n",
       "  1  0  0\n",
       "  0  1  0\n",
       "  0  0  1\n",
       " [torch.FloatTensor of size 3x3], \n",
       " -2.9718  1.7070 -0.4305\n",
       " -2.2820  0.5237  0.0004\n",
       " -1.2039  3.5283  0.4434\n",
       " [torch.FloatTensor of size 3x3])"
      ]
     },
     "execution_count": 4,
     "metadata": {},
     "output_type": "execute_result"
    }
   ],
   "source": [
    "torch.ones(3,3), torch.zeros(3,3), torch.eye(3,3), torch.randn(3,3)"
   ]
  },
  {
   "cell_type": "code",
   "execution_count": 47,
   "metadata": {
    "ExecuteTime": {
     "end_time": "2017-08-03T15:53:04.472962Z",
     "start_time": "2017-08-03T15:53:04.465352Z"
    }
   },
   "outputs": [
    {
     "data": {
      "text/plain": [
       "\n",
       " 0.0000\n",
       " 0.5000\n",
       " 1.0000\n",
       " 1.5000\n",
       " 2.0000\n",
       " 2.5000\n",
       "[torch.FloatTensor of size 6]"
      ]
     },
     "execution_count": 47,
     "metadata": {},
     "output_type": "execute_result"
    }
   ],
   "source": [
    "torch.arange(0,3, step=0.5)"
   ]
  },
  {
   "cell_type": "code",
   "execution_count": 5,
   "metadata": {
    "ExecuteTime": {
     "end_time": "2017-08-03T15:36:03.978690Z",
     "start_time": "2017-08-03T15:36:03.971616Z"
    }
   },
   "outputs": [
    {
     "data": {
      "text/plain": [
       "\n",
       " 1  2\n",
       " 3  4\n",
       "[torch.FloatTensor of size 2x2]"
      ]
     },
     "execution_count": 5,
     "metadata": {},
     "output_type": "execute_result"
    }
   ],
   "source": [
    "torch.Tensor([[1,2],[3,4]])"
   ]
  },
  {
   "cell_type": "code",
   "execution_count": 6,
   "metadata": {
    "ExecuteTime": {
     "end_time": "2017-08-03T15:36:12.585857Z",
     "start_time": "2017-08-03T15:36:12.577220Z"
    }
   },
   "outputs": [
    {
     "data": {
      "text/plain": [
       "\n",
       " 5  6\n",
       " 7  8\n",
       "[torch.LongTensor of size 2x2]"
      ]
     },
     "execution_count": 6,
     "metadata": {},
     "output_type": "execute_result"
    }
   ],
   "source": [
    "numpy_matrix = np.array([[5,6],[7,8]])\n",
    "torch.from_numpy(numpy_matrix)"
   ]
  },
  {
   "cell_type": "markdown",
   "metadata": {},
   "source": [
    "## Slicing, Concatenating, and Masking Tensor"
   ]
  },
  {
   "cell_type": "code",
   "execution_count": 35,
   "metadata": {
    "ExecuteTime": {
     "end_time": "2017-08-03T15:47:17.163126Z",
     "start_time": "2017-08-03T15:47:17.152898Z"
    }
   },
   "outputs": [
    {
     "data": {
      "text/plain": [
       "(\n",
       "  1  1  1\n",
       "  2  2  2\n",
       "  3  3  3\n",
       " [torch.FloatTensor of size 3x3], \n",
       "  1  1  1\n",
       "  2  2  2\n",
       " [torch.FloatTensor of size 2x3])"
      ]
     },
     "execution_count": 35,
     "metadata": {},
     "output_type": "execute_result"
    }
   ],
   "source": [
    "x = torch.Tensor([[1,1,1],[2,2,2],[3,3,3]])\n",
    "x, x[0:2,:]"
   ]
  },
  {
   "cell_type": "code",
   "execution_count": 34,
   "metadata": {
    "ExecuteTime": {
     "end_time": "2017-08-03T15:47:12.168175Z",
     "start_time": "2017-08-03T15:47:12.160885Z"
    }
   },
   "outputs": [
    {
     "data": {
      "text/plain": [
       "\n",
       " 0  0  0\n",
       " 2  2  2\n",
       " 3  3  3\n",
       "[torch.FloatTensor of size 3x3]"
      ]
     },
     "execution_count": 34,
     "metadata": {},
     "output_type": "execute_result"
    }
   ],
   "source": [
    "x[0,:] = torch.Tensor([0,0,0])\n",
    "x"
   ]
  },
  {
   "cell_type": "code",
   "execution_count": 8,
   "metadata": {
    "ExecuteTime": {
     "end_time": "2017-08-03T15:36:21.228259Z",
     "start_time": "2017-08-03T15:36:21.220318Z"
    },
    "scrolled": true
   },
   "outputs": [
    {
     "name": "stdout",
     "output_type": "stream",
     "text": [
      "(\n",
      " 1  1  1\n",
      "[torch.FloatTensor of size 1x3]\n",
      ", \n",
      " 2  2  2\n",
      "[torch.FloatTensor of size 1x3]\n",
      ", \n",
      " 3  3  3\n",
      "[torch.FloatTensor of size 1x3]\n",
      ")\n"
     ]
    }
   ],
   "source": [
    "split = torch.split(x, split_size=1, dim=0)\n",
    "print(split)"
   ]
  },
  {
   "cell_type": "code",
   "execution_count": 9,
   "metadata": {
    "ExecuteTime": {
     "end_time": "2017-08-03T15:36:24.622011Z",
     "start_time": "2017-08-03T15:36:24.614908Z"
    }
   },
   "outputs": [
    {
     "data": {
      "text/plain": [
       "\n",
       " 1  1  1\n",
       " 2  2  2\n",
       " 3  3  3\n",
       "[torch.FloatTensor of size 3x3]"
      ]
     },
     "execution_count": 9,
     "metadata": {},
     "output_type": "execute_result"
    }
   ],
   "source": [
    "torch.cat(split, dim=0) # concatentae Tensor "
   ]
  },
  {
   "cell_type": "code",
   "execution_count": 133,
   "metadata": {
    "ExecuteTime": {
     "end_time": "2017-08-03T13:07:05.483333Z",
     "start_time": "2017-08-03T13:07:05.476270Z"
    },
    "scrolled": true
   },
   "outputs": [
    {
     "data": {
      "text/plain": [
       "\n",
       "(0 ,.,.) = \n",
       "  0  0  0\n",
       "\n",
       "(1 ,.,.) = \n",
       "  0  0  0\n",
       "\n",
       "(2 ,.,.) = \n",
       "  0  0  0\n",
       "[torch.FloatTensor of size 3x1x3]"
      ]
     },
     "execution_count": 133,
     "metadata": {},
     "output_type": "execute_result"
    }
   ],
   "source": [
    "torch.stack(chunk, dim=0) # concatenate Tensor with New dimenstion"
   ]
  },
  {
   "cell_type": "code",
   "execution_count": 48,
   "metadata": {
    "ExecuteTime": {
     "end_time": "2017-08-03T15:56:27.429417Z",
     "start_time": "2017-08-03T15:56:27.415390Z"
    }
   },
   "outputs": [
    {
     "data": {
      "text/plain": [
       "(\n",
       "  0.5848  0.8407  0.5510\n",
       "  0.3863  0.9124 -0.8410\n",
       " [torch.FloatTensor of size 2x3], \n",
       "  0  0  1\n",
       "  0  1  0\n",
       " [torch.ByteTensor of size 2x3], \n",
       "  0.5510\n",
       "  0.9124\n",
       " [torch.FloatTensor of size 2])"
      ]
     },
     "execution_count": 48,
     "metadata": {},
     "output_type": "execute_result"
    }
   ],
   "source": [
    "# torch.masked_select(input, mask)\n",
    "x = torch.randn(2,3)\n",
    "mask = torch.ByteTensor([[0,0,1],[0,1,0]])\n",
    "out = torch.masked_select(x,mask)\n",
    "\n",
    "x, mask, out"
   ]
  },
  {
   "cell_type": "markdown",
   "metadata": {
    "ExecuteTime": {
     "end_time": "2017-08-03T13:05:51.955648Z",
     "start_time": "2017-08-03T13:05:51.948906Z"
    }
   },
   "source": [
    "## Reshaping on Dimension of Tensor"
   ]
  },
  {
   "cell_type": "code",
   "execution_count": 59,
   "metadata": {
    "ExecuteTime": {
     "end_time": "2017-08-03T15:58:05.837392Z",
     "start_time": "2017-08-03T15:58:05.827367Z"
    }
   },
   "outputs": [
    {
     "data": {
      "text/plain": [
       "(torch.Size([2, 1, 2]), torch.Size([2, 2]))"
      ]
     },
     "execution_count": 59,
     "metadata": {},
     "output_type": "execute_result"
    }
   ],
   "source": [
    "x  = torch.zeros(2, 1, 2)\n",
    "\n",
    "y = x.squeeze(1)  #remove dimension of 1\n",
    "\n",
    "x.size(), y.size()"
   ]
  },
  {
   "cell_type": "code",
   "execution_count": 53,
   "metadata": {
    "ExecuteTime": {
     "end_time": "2017-08-03T15:57:20.779796Z",
     "start_time": "2017-08-03T15:57:20.774038Z"
    }
   },
   "outputs": [
    {
     "data": {
      "text/plain": [
       "\n",
       " 0  0\n",
       " 0  0\n",
       "[torch.FloatTensor of size 2x2]"
      ]
     },
     "execution_count": 53,
     "metadata": {},
     "output_type": "execute_result"
    }
   ],
   "source": [
    "x.view(2,2)"
   ]
  },
  {
   "cell_type": "code",
   "execution_count": 54,
   "metadata": {
    "ExecuteTime": {
     "end_time": "2017-08-03T15:57:21.072694Z",
     "start_time": "2017-08-03T15:57:21.065901Z"
    }
   },
   "outputs": [
    {
     "data": {
      "text/plain": [
       "\n",
       " 0\n",
       " 0\n",
       " 0\n",
       " 0\n",
       "[torch.FloatTensor of size 4]"
      ]
     },
     "execution_count": 54,
     "metadata": {},
     "output_type": "execute_result"
    }
   ],
   "source": [
    "x.view(-1)"
   ]
  },
  {
   "cell_type": "code",
   "execution_count": 58,
   "metadata": {
    "ExecuteTime": {
     "end_time": "2017-08-03T15:57:49.794169Z",
     "start_time": "2017-08-03T15:57:49.786199Z"
    }
   },
   "outputs": [
    {
     "data": {
      "text/plain": [
       "(\n",
       "  0  0  0  0\n",
       " [torch.FloatTensor of size 1x4], \n",
       "  0\n",
       "  0\n",
       "  0\n",
       "  0\n",
       " [torch.FloatTensor of size 4x1])"
      ]
     },
     "execution_count": 58,
     "metadata": {},
     "output_type": "execute_result"
    }
   ],
   "source": [
    "x.view(-1,4), x.view(4,-1)"
   ]
  },
  {
   "cell_type": "code",
   "execution_count": 39,
   "metadata": {
    "ExecuteTime": {
     "end_time": "2017-08-03T15:49:21.319762Z",
     "start_time": "2017-08-03T15:49:21.312485Z"
    }
   },
   "outputs": [
    {
     "data": {
      "text/plain": [
       "\n",
       "(0 ,.,.) = \n",
       "  1  1  1\n",
       "\n",
       "(1 ,.,.) = \n",
       "  2  2  2\n",
       "\n",
       "(2 ,.,.) = \n",
       "  3  3  3\n",
       "[torch.FloatTensor of size 3x1x3]"
      ]
     },
     "execution_count": 39,
     "metadata": {},
     "output_type": "execute_result"
    }
   ],
   "source": [
    "x.unsqueeze(1)"
   ]
  },
  {
   "cell_type": "markdown",
   "metadata": {},
   "source": [
    "## Tensor Operations"
   ]
  },
  {
   "cell_type": "markdown",
   "metadata": {},
   "source": [
    "### Arthmetic Operations"
   ]
  },
  {
   "cell_type": "code",
   "execution_count": 91,
   "metadata": {
    "ExecuteTime": {
     "end_time": "2017-08-03T16:11:32.694151Z",
     "start_time": "2017-08-03T16:11:32.680809Z"
    }
   },
   "outputs": [
    {
     "data": {
      "text/plain": [
       "(\n",
       "   2   4   6\n",
       "   8  10  12\n",
       " [torch.FloatTensor of size 2x3], \n",
       "   2   4   6\n",
       "   8  10  12\n",
       " [torch.FloatTensor of size 2x3], \n",
       "   2   4   6\n",
       "   8  10  12\n",
       " [torch.FloatTensor of size 2x3])"
      ]
     },
     "execution_count": 91,
     "metadata": {},
     "output_type": "execute_result"
    }
   ],
   "source": [
    "x1 = torch.FloatTensor([[1,2,3],[4,5,6]])\n",
    "x2 = torch.FloatTensor([[1,2,3],[4,5,6]])\n",
    "x1+ x2 , x1.add(x2), torch.add(x1,x2)"
   ]
  },
  {
   "cell_type": "code",
   "execution_count": 66,
   "metadata": {
    "ExecuteTime": {
     "end_time": "2017-08-03T16:00:35.332138Z",
     "start_time": "2017-08-03T16:00:35.325648Z"
    }
   },
   "outputs": [
    {
     "data": {
      "text/plain": [
       "\n",
       " 11  12  13\n",
       " 14  15  16\n",
       "[torch.FloatTensor of size 2x3]"
      ]
     },
     "execution_count": 66,
     "metadata": {},
     "output_type": "execute_result"
    }
   ],
   "source": [
    "x1 + 10 # broadingcasting"
   ]
  },
  {
   "cell_type": "code",
   "execution_count": 68,
   "metadata": {
    "ExecuteTime": {
     "end_time": "2017-08-03T16:01:19.178074Z",
     "start_time": "2017-08-03T16:01:19.169752Z"
    }
   },
   "outputs": [
    {
     "data": {
      "text/plain": [
       "(\n",
       "   1   4   9\n",
       "  16  25  36\n",
       " [torch.FloatTensor of size 2x3], \n",
       "   1   4   9\n",
       "  16  25  36\n",
       " [torch.FloatTensor of size 2x3], \n",
       "   1   4   9\n",
       "  16  25  36\n",
       " [torch.FloatTensor of size 2x3])"
      ]
     },
     "execution_count": 68,
     "metadata": {},
     "output_type": "execute_result"
    }
   ],
   "source": [
    "x1 * x2, x1.mul(x2), torch.mul(x1,x2)"
   ]
  },
  {
   "cell_type": "code",
   "execution_count": 69,
   "metadata": {
    "ExecuteTime": {
     "end_time": "2017-08-03T16:01:29.535709Z",
     "start_time": "2017-08-03T16:01:29.529654Z"
    }
   },
   "outputs": [
    {
     "data": {
      "text/plain": [
       "\n",
       " 10  20  30\n",
       " 40  50  60\n",
       "[torch.FloatTensor of size 2x3]"
      ]
     },
     "execution_count": 69,
     "metadata": {},
     "output_type": "execute_result"
    }
   ],
   "source": [
    "x1 * 10"
   ]
  },
  {
   "cell_type": "markdown",
   "metadata": {},
   "source": [
    "### Some useful math Operation"
   ]
  },
  {
   "cell_type": "code",
   "execution_count": 74,
   "metadata": {
    "ExecuteTime": {
     "end_time": "2017-08-03T16:02:52.639621Z",
     "start_time": "2017-08-03T16:02:52.631566Z"
    }
   },
   "outputs": [
    {
     "data": {
      "text/plain": [
       "(\n",
       "   1   4   9\n",
       "  16  25  36\n",
       " [torch.FloatTensor of size 2x3], \n",
       "   1   4   9\n",
       "  16  25  36\n",
       " [torch.FloatTensor of size 2x3], \n",
       "   1   4   9\n",
       "  16  25  36\n",
       " [torch.FloatTensor of size 2x3])"
      ]
     },
     "execution_count": 74,
     "metadata": {},
     "output_type": "execute_result"
    }
   ],
   "source": [
    "x1.pow(2), torch.pow(x1,2), x1**2"
   ]
  },
  {
   "cell_type": "code",
   "execution_count": 76,
   "metadata": {
    "ExecuteTime": {
     "end_time": "2017-08-03T16:03:21.410737Z",
     "start_time": "2017-08-03T16:03:21.402480Z"
    }
   },
   "outputs": [
    {
     "data": {
      "text/plain": [
       "(\n",
       "  0.0000  0.6931  1.0986\n",
       "  1.3863  1.6094  1.7918\n",
       " [torch.FloatTensor of size 2x3], \n",
       "  0.0000  0.6931  1.0986\n",
       "  1.3863  1.6094  1.7918\n",
       " [torch.FloatTensor of size 2x3])"
      ]
     },
     "execution_count": 76,
     "metadata": {},
     "output_type": "execute_result"
    }
   ],
   "source": [
    "x1.log(), torch.log(x1)"
   ]
  },
  {
   "cell_type": "code",
   "execution_count": 78,
   "metadata": {
    "ExecuteTime": {
     "end_time": "2017-08-03T16:03:49.142971Z",
     "start_time": "2017-08-03T16:03:49.136428Z"
    }
   },
   "outputs": [
    {
     "data": {
      "text/plain": [
       "\n",
       " 1  0  1\n",
       " 0  1  0\n",
       "[torch.FloatTensor of size 2x3]"
      ]
     },
     "execution_count": 78,
     "metadata": {},
     "output_type": "execute_result"
    }
   ],
   "source": [
    "x1 % 2"
   ]
  },
  {
   "cell_type": "code",
   "execution_count": 125,
   "metadata": {
    "ExecuteTime": {
     "end_time": "2017-08-03T16:33:11.025583Z",
     "start_time": "2017-08-03T16:33:11.016535Z"
    }
   },
   "outputs": [
    {
     "data": {
      "text/plain": [
       "(-1.7373209223151207,\n",
       " 1.4351236820220947,\n",
       " -1.3037976026535034,\n",
       " -0.14477674352626005,\n",
       " 0.9596309507617423,\n",
       " \n",
       "  0.7159  1.0067  1.1036  0.9792\n",
       "  1.4351  0.3460  1.1480  1.3038\n",
       "  0.4588  0.0625  0.2993  1.0850\n",
       " [torch.FloatTensor of size 3x4],\n",
       " \n",
       "  0.8461     nan     nan     nan\n",
       "  1.1980  0.5882     nan     nan\n",
       "  0.6774  0.2499     nan  1.0417\n",
       " [torch.FloatTensor of size 3x4])"
      ]
     },
     "execution_count": 125,
     "metadata": {},
     "output_type": "execute_result"
    }
   ],
   "source": [
    "x1.sum(), x1.max(), x1.min(), x1.mean(), x1.std(), x1.abs(), x1.sqrt()"
   ]
  },
  {
   "cell_type": "code",
   "execution_count": 103,
   "metadata": {
    "ExecuteTime": {
     "end_time": "2017-08-03T16:15:49.648416Z",
     "start_time": "2017-08-03T16:15:49.640000Z"
    }
   },
   "outputs": [
    {
     "data": {
      "text/plain": [
       "(\n",
       "  3\n",
       "  6\n",
       " [torch.FloatTensor of size 2], \n",
       "  2\n",
       "  2\n",
       " [torch.LongTensor of size 2])"
      ]
     },
     "execution_count": 103,
     "metadata": {},
     "output_type": "execute_result"
    }
   ],
   "source": [
    "value, index = x1.max(1)\n",
    "value, index"
   ]
  },
  {
   "cell_type": "markdown",
   "metadata": {},
   "source": [
    "### Matrix operations"
   ]
  },
  {
   "cell_type": "code",
   "execution_count": 115,
   "metadata": {
    "ExecuteTime": {
     "end_time": "2017-08-03T16:20:00.360454Z",
     "start_time": "2017-08-03T16:20:00.348495Z"
    }
   },
   "outputs": [
    {
     "data": {
      "text/plain": [
       "(\n",
       "  0.7430  1.0564  5.1072 -2.4826 -2.6390\n",
       "  2.5699 -0.3730  6.1607 -2.4609  1.1350\n",
       " -1.3680 -0.7426 -0.7126 -1.0130  1.3272\n",
       " [torch.FloatTensor of size 3x5], \n",
       "  0.7430  1.0564  5.1072 -2.4826 -2.6390\n",
       "  2.5699 -0.3730  6.1607 -2.4609  1.1350\n",
       " -1.3680 -0.7426 -0.7126 -1.0130  1.3272\n",
       " [torch.FloatTensor of size 3x5], \n",
       "  0.7430  1.0564  5.1072 -2.4826 -2.6390\n",
       "  2.5699 -0.3730  6.1607 -2.4609  1.1350\n",
       " -1.3680 -0.7426 -0.7126 -1.0130  1.3272\n",
       " [torch.FloatTensor of size 3x5])"
      ]
     },
     "execution_count": 115,
     "metadata": {},
     "output_type": "execute_result"
    }
   ],
   "source": [
    "# torch.mm(mat1, mat2) -> matrix multiplication\n",
    "\n",
    "x1 = torch.randn(3,4)\n",
    "x2 = torch.randn(4,5)\n",
    "\n",
    "torch.mm(x1,x2), x1.mm(x2)"
   ]
  },
  {
   "cell_type": "code",
   "execution_count": 118,
   "metadata": {
    "ExecuteTime": {
     "end_time": "2017-08-03T16:22:27.128857Z",
     "start_time": "2017-08-03T16:22:27.117631Z"
    }
   },
   "outputs": [
    {
     "data": {
      "text/plain": [
       "(\n",
       " -0.0787\n",
       " -4.4828\n",
       "  0.7590\n",
       " [torch.FloatTensor of size 3], \n",
       " -0.0787\n",
       " -4.4828\n",
       "  0.7590\n",
       " [torch.FloatTensor of size 3])"
      ]
     },
     "execution_count": 118,
     "metadata": {},
     "output_type": "execute_result"
    }
   ],
   "source": [
    "# torch.mv(mat1, vector) -> matrix vector multiplication\n",
    "\n",
    "x = torch.randn(3,4)\n",
    "v = torch.randn(4)\n",
    "\n",
    "torch.mv(x,v), x.mv(v)"
   ]
  },
  {
   "cell_type": "code",
   "execution_count": 110,
   "metadata": {
    "ExecuteTime": {
     "end_time": "2017-08-03T16:17:20.886730Z",
     "start_time": "2017-08-03T16:17:20.875995Z"
    },
    "scrolled": true
   },
   "outputs": [
    {
     "data": {
      "text/plain": [
       "torch.Size([10, 3, 5])"
      ]
     },
     "execution_count": 110,
     "metadata": {},
     "output_type": "execute_result"
    }
   ],
   "source": [
    "# torch.bmm(batch1, batch2) -> batch matrix multiplication\n",
    "\n",
    "x1 = torch.randn(10,3,4)\n",
    "x2 = torch.randn(10,4,5)\n",
    "\n",
    "torch.bmm(x1,x2).size()"
   ]
  },
  {
   "cell_type": "code",
   "execution_count": 112,
   "metadata": {
    "ExecuteTime": {
     "end_time": "2017-08-03T16:18:04.009336Z",
     "start_time": "2017-08-03T16:18:03.998047Z"
    }
   },
   "outputs": [
    {
     "data": {
      "text/plain": [
       "1.2282490730285645"
      ]
     },
     "execution_count": 112,
     "metadata": {},
     "output_type": "execute_result"
    }
   ],
   "source": [
    "# torch.dot(tensor1,tensor2) -> dot product of two tensor\n",
    "x1 = torch.randn(2,2)\n",
    "x2 = torch.randn(2,2)\n",
    "\n",
    "torch.dot(x1.view(-1),x2.view(-1))"
   ]
  },
  {
   "cell_type": "code",
   "execution_count": 114,
   "metadata": {
    "ExecuteTime": {
     "end_time": "2017-08-03T16:18:28.537926Z",
     "start_time": "2017-08-03T16:18:28.528773Z"
    }
   },
   "outputs": [
    {
     "data": {
      "text/plain": [
       "(\n",
       " -0.6521  0.4788 -1.4859  1.2957\n",
       "  0.2860  0.3352 -2.6214 -0.0975\n",
       " -0.8456 -0.0528  0.8662 -0.0318\n",
       " [torch.FloatTensor of size 3x4], \n",
       " -0.6521  0.2860 -0.8456\n",
       "  0.4788  0.3352 -0.0528\n",
       " -1.4859 -2.6214  0.8662\n",
       "  1.2957 -0.0975 -0.0318\n",
       " [torch.FloatTensor of size 4x3])"
      ]
     },
     "execution_count": 114,
     "metadata": {},
     "output_type": "execute_result"
    }
   ],
   "source": [
    "# torch.t(matrix) -> transposed matrix\n",
    "\n",
    "x1 = torch.randn(3,4)\n",
    "\n",
    "x1, x1.t()"
   ]
  },
  {
   "cell_type": "code",
   "execution_count": 119,
   "metadata": {
    "ExecuteTime": {
     "end_time": "2017-08-03T16:24:04.949639Z",
     "start_time": "2017-08-03T16:24:04.940420Z"
    },
    "collapsed": true
   },
   "outputs": [],
   "source": [
    "a = torch.Tensor([[8.79,  6.11, -9.15,  9.57, -3.49,  9.84],\n",
    "                  [9.93,  6.91, -7.93,  1.64,  4.02,  0.15],\n",
    "                  [9.83,  5.04,  4.86,  8.83,  9.80, -8.99],\n",
    "                  [5.45, -0.27,  4.85,  0.74, 10.00, -6.02],\n",
    "                  [3.16,  7.98,  3.01,  5.80,  4.27, -5.31]]).t()\n",
    "a"
   ]
  },
  {
   "cell_type": "code",
   "execution_count": 121,
   "metadata": {
    "ExecuteTime": {
     "end_time": "2017-08-03T16:24:47.381457Z",
     "start_time": "2017-08-03T16:24:47.330420Z"
    }
   },
   "outputs": [
    {
     "data": {
      "text/plain": [
       "(\n",
       " -0.5911  0.2632  0.3554  0.3143  0.2299\n",
       " -0.3976  0.2438 -0.2224 -0.7535 -0.3636\n",
       " -0.0335 -0.6003 -0.4508  0.2334 -0.3055\n",
       " -0.4297  0.2362 -0.6859  0.3319  0.1649\n",
       " -0.4697 -0.3509  0.3874  0.1587 -0.5183\n",
       "  0.2934  0.5763 -0.0209  0.3791 -0.6526\n",
       " [torch.FloatTensor of size 6x5], \n",
       "  27.4687\n",
       "  22.6432\n",
       "   8.5584\n",
       "   5.9857\n",
       "   2.0149\n",
       " [torch.FloatTensor of size 5], \n",
       " -0.2514  0.8148 -0.2606  0.3967 -0.2180\n",
       " -0.3968  0.3587  0.7008 -0.4507  0.1402\n",
       " -0.6922 -0.2489 -0.2208  0.2513  0.5891\n",
       " -0.3662 -0.3686  0.3859  0.4342 -0.6265\n",
       " -0.4076 -0.0980 -0.4933 -0.6227 -0.4396\n",
       " [torch.FloatTensor of size 5x5])"
      ]
     },
     "execution_count": 121,
     "metadata": {},
     "output_type": "execute_result"
    }
   ],
   "source": [
    "u, s, v = torch.svd(a)\n",
    "u,s,v"
   ]
  },
  {
   "cell_type": "code",
   "execution_count": 124,
   "metadata": {
    "ExecuteTime": {
     "end_time": "2017-08-03T16:25:56.564453Z",
     "start_time": "2017-08-03T16:25:56.556469Z"
    },
    "scrolled": true
   },
   "outputs": [
    {
     "data": {
      "text/plain": [
       "1.091761987481732e-05"
      ]
     },
     "execution_count": 124,
     "metadata": {},
     "output_type": "execute_result"
    }
   ],
   "source": [
    "torch.dist(a, torch.mm(torch.mm(u, torch.diag(s)), v.t()))"
   ]
  },
  {
   "cell_type": "markdown",
   "metadata": {},
   "source": [
    "## Tensor Data Type"
   ]
  },
  {
   "cell_type": "code",
   "execution_count": 4,
   "metadata": {
    "ExecuteTime": {
     "end_time": "2017-08-03T16:46:32.602862Z",
     "start_time": "2017-08-03T16:46:32.595167Z"
    }
   },
   "outputs": [
    {
     "data": {
      "text/plain": [
       "\n",
       " 0.0923  0.3966\n",
       " 0.1863  0.3879\n",
       "[torch.FloatTensor of size 2x2]"
      ]
     },
     "execution_count": 4,
     "metadata": {},
     "output_type": "execute_result"
    }
   ],
   "source": [
    "x = torch.rand(2,2)\n",
    "x"
   ]
  },
  {
   "cell_type": "code",
   "execution_count": 133,
   "metadata": {
    "ExecuteTime": {
     "end_time": "2017-08-03T16:37:37.119286Z",
     "start_time": "2017-08-03T16:37:37.111153Z"
    }
   },
   "outputs": [
    {
     "data": {
      "text/plain": [
       "\n",
       " 1\n",
       " 1\n",
       "[torch.LongTensor of size 2]"
      ]
     },
     "execution_count": 133,
     "metadata": {},
     "output_type": "execute_result"
    }
   ],
   "source": [
    "x = torch.LongTensor([1,1])\n",
    "x"
   ]
  },
  {
   "cell_type": "code",
   "execution_count": 134,
   "metadata": {
    "ExecuteTime": {
     "end_time": "2017-08-03T16:37:56.409443Z",
     "start_time": "2017-08-03T16:37:56.402673Z"
    }
   },
   "outputs": [
    {
     "data": {
      "text/plain": [
       "\n",
       " 1\n",
       " 1\n",
       "[torch.FloatTensor of size 2]"
      ]
     },
     "execution_count": 134,
     "metadata": {},
     "output_type": "execute_result"
    }
   ],
   "source": [
    "x.float()"
   ]
  },
  {
   "cell_type": "code",
   "execution_count": 140,
   "metadata": {
    "ExecuteTime": {
     "end_time": "2017-08-03T16:38:57.004237Z",
     "start_time": "2017-08-03T16:38:56.996995Z"
    }
   },
   "outputs": [
    {
     "data": {
      "text/plain": [
       "\n",
       " 1\n",
       " 1\n",
       "[torch.DoubleTensor of size 2]"
      ]
     },
     "execution_count": 140,
     "metadata": {},
     "output_type": "execute_result"
    }
   ],
   "source": [
    "x.double()"
   ]
  },
  {
   "cell_type": "code",
   "execution_count": 142,
   "metadata": {
    "ExecuteTime": {
     "end_time": "2017-08-03T16:39:15.660305Z",
     "start_time": "2017-08-03T16:39:15.655861Z"
    },
    "collapsed": true
   },
   "outputs": [],
   "source": [
    "x.byte()"
   ]
  },
  {
   "cell_type": "code",
   "execution_count": 11,
   "metadata": {
    "ExecuteTime": {
     "end_time": "2017-08-03T16:48:17.487535Z",
     "start_time": "2017-08-03T16:48:17.480136Z"
    }
   },
   "outputs": [
    {
     "data": {
      "text/plain": [
       "\n",
       " 0.0923  0.3966\n",
       " 0.1863  0.3879\n",
       "[torch.cuda.FloatTensor of size 2x2 (GPU 0)]"
      ]
     },
     "execution_count": 11,
     "metadata": {},
     "output_type": "execute_result"
    }
   ],
   "source": [
    "x = x.cuda()\n",
    "x"
   ]
  },
  {
   "cell_type": "code",
   "execution_count": 12,
   "metadata": {
    "ExecuteTime": {
     "end_time": "2017-08-03T16:48:18.939541Z",
     "start_time": "2017-08-03T16:48:18.932168Z"
    }
   },
   "outputs": [
    {
     "data": {
      "text/plain": [
       "\n",
       " 0.0923  0.3966\n",
       " 0.1863  0.3879\n",
       "[torch.FloatTensor of size 2x2]"
      ]
     },
     "execution_count": 12,
     "metadata": {},
     "output_type": "execute_result"
    }
   ],
   "source": [
    "x = x.cpu()\n",
    "x"
   ]
  },
  {
   "cell_type": "code",
   "execution_count": 13,
   "metadata": {
    "ExecuteTime": {
     "end_time": "2017-08-03T16:48:22.602638Z",
     "start_time": "2017-08-03T16:48:22.595460Z"
    }
   },
   "outputs": [
    {
     "data": {
      "text/plain": [
       "array([[ 0.09233859,  0.39658073],\n",
       "       [ 0.18626021,  0.38791075]], dtype=float32)"
      ]
     },
     "execution_count": 13,
     "metadata": {},
     "output_type": "execute_result"
    }
   ],
   "source": [
    "x.numpy()"
   ]
  },
  {
   "cell_type": "code",
   "execution_count": 14,
   "metadata": {
    "ExecuteTime": {
     "end_time": "2017-08-03T16:48:26.145951Z",
     "start_time": "2017-08-03T16:48:26.139183Z"
    }
   },
   "outputs": [
    {
     "data": {
      "text/plain": [
       "\n",
       " 2  3\n",
       " 1  2\n",
       "[torch.LongTensor of size 2x2]"
      ]
     },
     "execution_count": 14,
     "metadata": {},
     "output_type": "execute_result"
    }
   ],
   "source": [
    "torch.from_numpy(np.array([[2,3],[1,2]]))"
   ]
  },
  {
   "cell_type": "code",
   "execution_count": null,
   "metadata": {
    "collapsed": true
   },
   "outputs": [],
   "source": []
  }
 ],
 "metadata": {
  "kernelspec": {
   "display_name": "Python [conda env:lab_conda]",
   "language": "python",
   "name": "conda-env-lab_conda-py"
  },
  "language_info": {
   "codemirror_mode": {
    "name": "ipython",
    "version": 3
   },
   "file_extension": ".py",
   "mimetype": "text/x-python",
   "name": "python",
   "nbconvert_exporter": "python",
   "pygments_lexer": "ipython3",
   "version": "3.6.2"
  }
 },
 "nbformat": 4,
 "nbformat_minor": 2
}
