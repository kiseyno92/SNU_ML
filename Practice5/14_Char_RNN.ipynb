{
 "cells": [
  {
   "cell_type": "code",
   "execution_count": 13,
   "metadata": {
    "ExecuteTime": {
     "end_time": "2017-08-04T07:57:16.228377Z",
     "start_time": "2017-08-04T07:57:16.197600Z"
    },
    "collapsed": true
   },
   "outputs": [],
   "source": [
    "# Lab 12 RNN\n",
    "import torch\n",
    "import torch.nn as nn\n",
    "from torch.autograd import Variable\n",
    "\n",
    "torch.manual_seed(777)  # reproducibility\n",
    "\n",
    "# hyperparameters\n",
    "learning_rate = 0.1\n",
    "num_epochs = 15\n",
    "\n",
    "idx2char = ['h', 'i', 'e', 'l', 'o']\n",
    "\n",
    "# Teach hello: hihell -> ihello\n",
    "x_data = [[0, 1, 0, 2, 3, 3]]   # hihell\n",
    "x_one_hot = [[[1, 0, 0, 0, 0],   # h 0\n",
    "              [0, 1, 0, 0, 0],   # i 1\n",
    "              [1, 0, 0, 0, 0],   # h 0\n",
    "              [0, 0, 1, 0, 0],   # e 2\n",
    "              [0, 0, 0, 1, 0],   # l 3\n",
    "              [0, 0, 0, 1, 0]]]  # l 3\n",
    "\n",
    "y_data = [1, 0, 2, 3, 3, 4]    # ihello\n"
   ]
  },
  {
   "cell_type": "code",
   "execution_count": 14,
   "metadata": {
    "ExecuteTime": {
     "end_time": "2017-08-04T07:57:16.770567Z",
     "start_time": "2017-08-04T07:57:16.752538Z"
    },
    "collapsed": true
   },
   "outputs": [],
   "source": [
    "# As we have one batch of samples, we will change them to variables only once\n",
    "inputs = torch.Tensor(x_one_hot)\n",
    "labels = torch.LongTensor(y_data)\n",
    "\n",
    "inputs = Variable(inputs)\n",
    "labels = Variable(labels)\n",
    "\n",
    "num_classes = 5\n",
    "input_size = 5  # one-hot size\n",
    "hidden_size = 5  # output from the LSTM. 5 to directly predict one-hot\n",
    "batch_size = 1   # one sentence\n",
    "sequence_length = 6  # |ihello| == 6\n",
    "num_layers = 1  # one-layer rnn\n"
   ]
  },
  {
   "cell_type": "code",
   "execution_count": 15,
   "metadata": {
    "ExecuteTime": {
     "end_time": "2017-08-04T07:57:17.019435Z",
     "start_time": "2017-08-04T07:57:17.012451Z"
    }
   },
   "outputs": [
    {
     "data": {
      "text/plain": [
       "Variable containing:\n",
       " 1\n",
       " 0\n",
       " 2\n",
       " 3\n",
       " 3\n",
       " 4\n",
       "[torch.LongTensor of size 6]"
      ]
     },
     "execution_count": 15,
     "metadata": {},
     "output_type": "execute_result"
    }
   ],
   "source": [
    "labels"
   ]
  },
  {
   "cell_type": "code",
   "execution_count": 16,
   "metadata": {
    "ExecuteTime": {
     "end_time": "2017-08-04T07:57:17.436212Z",
     "start_time": "2017-08-04T07:57:17.345380Z"
    },
    "collapsed": true
   },
   "outputs": [],
   "source": [
    "\n",
    "class RNN(nn.Module):\n",
    "\n",
    "    def __init__(self, num_classes, input_size, hidden_size, num_layers):\n",
    "        super(RNN, self).__init__()\n",
    "        self.num_classes = num_classes\n",
    "        self.num_layers = num_layers\n",
    "        self.input_size = input_size\n",
    "        self.hidden_size = hidden_size\n",
    "        self.sequence_length = sequence_length\n",
    "        # Set parameters for RNN block\n",
    "        # Note: batch_first=False by default.\n",
    "        # When true, inputs are (batch_size, sequence_length, input_dimension)\n",
    "        # instead of (sequence_length, batch_size, input_dimension)\n",
    "        self.rnn = nn.RNN(input_size=input_size, hidden_size=hidden_size,\n",
    "                          num_layers=num_layers, batch_first=True)\n",
    "        # Fully connected layer to obtain outputs corresponding to the number\n",
    "        # of classes\n",
    "        self.fc = nn.Linear(hidden_size, num_classes)\n",
    "\n",
    "    def forward(self, x):\n",
    "        # Initialize hidden and cell states\n",
    "        h_0 = Variable(torch.zeros(\n",
    "            x.size(0), self.num_layers, self.hidden_size))\n",
    "\n",
    "        # Reshape input\n",
    "        x.view(x.size(0), self.sequence_length, self.input_size)\n",
    "\n",
    "        # Propagate input through RNN\n",
    "        # Input: (batch, seq_len, input_size)\n",
    "        # h_0: (batch, num_layers * num_directions, hidden_size)\n",
    "\n",
    "        out, _ = self.rnn(x, h_0)\n",
    "\n",
    "        # Reshape output from (batch, seq_len, hidden_size) to (batch *\n",
    "        # seq_len, hidden_size)\n",
    "        out = out.view(-1, self.hidden_size)\n",
    "        # Return outputs applied to fully connected layer\n",
    "        out = self.fc(out)\n",
    "        return out"
   ]
  },
  {
   "cell_type": "code",
   "execution_count": 17,
   "metadata": {
    "ExecuteTime": {
     "end_time": "2017-08-04T07:57:17.442889Z",
     "start_time": "2017-08-04T07:57:17.438406Z"
    },
    "collapsed": true
   },
   "outputs": [],
   "source": [
    "# Instantiate RNN model\n",
    "rnn = RNN(num_classes, input_size, hidden_size, num_layers)"
   ]
  },
  {
   "cell_type": "code",
   "execution_count": 18,
   "metadata": {
    "ExecuteTime": {
     "end_time": "2017-08-04T07:57:17.634554Z",
     "start_time": "2017-08-04T07:57:17.628648Z"
    },
    "collapsed": true
   },
   "outputs": [],
   "source": [
    "# Set loss and optimizer function\n",
    "criterion = torch.nn.CrossEntropyLoss()    # Softmax is internally computed.\n",
    "optimizer = torch.optim.Adam(rnn.parameters(), lr=learning_rate)"
   ]
  },
  {
   "cell_type": "code",
   "execution_count": 19,
   "metadata": {
    "ExecuteTime": {
     "end_time": "2017-08-04T07:57:18.149350Z",
     "start_time": "2017-08-04T07:57:17.995074Z"
    },
    "scrolled": true
   },
   "outputs": [
    {
     "name": "stdout",
     "output_type": "stream",
     "text": [
      "epoch: 1, loss: 1.565\n",
      "Predicted string:  ililhi\n",
      "epoch: 2, loss: 1.365\n",
      "Predicted string:  llelel\n",
      "epoch: 3, loss: 1.204\n",
      "Predicted string:  elelll\n",
      "epoch: 4, loss: 1.053\n",
      "Predicted string:  ehelll\n",
      "epoch: 5, loss: 0.910\n",
      "Predicted string:  ehelll\n",
      "epoch: 6, loss: 0.778\n",
      "Predicted string:  ihelll\n",
      "epoch: 7, loss: 0.665\n",
      "Predicted string:  ihelll\n",
      "epoch: 8, loss: 0.572\n",
      "Predicted string:  ihelll\n",
      "epoch: 9, loss: 0.502\n",
      "Predicted string:  ihelll\n",
      "epoch: 10, loss: 0.444\n",
      "Predicted string:  ihelll\n",
      "epoch: 11, loss: 0.389\n",
      "Predicted string:  ihelll\n",
      "epoch: 12, loss: 0.326\n",
      "Predicted string:  ihello\n",
      "epoch: 13, loss: 0.271\n",
      "Predicted string:  ihello\n",
      "epoch: 14, loss: 0.222\n",
      "Predicted string:  ihello\n",
      "epoch: 15, loss: 0.177\n",
      "Predicted string:  ihello\n",
      "Learning finished!\n"
     ]
    }
   ],
   "source": [
    "# Train the model\n",
    "for epoch in range(num_epochs):\n",
    "    outputs = rnn(inputs)\n",
    "    optimizer.zero_grad()\n",
    "    loss = criterion(outputs, labels)\n",
    "    loss.backward()\n",
    "    optimizer.step()\n",
    "    _, idx = outputs.max(1)\n",
    "    idx = idx.data.numpy()\n",
    "    result_str = [idx2char[c] for c in idx.squeeze()]\n",
    "    print(\"epoch: %d, loss: %1.3f\" % (epoch + 1, loss.data[0]))\n",
    "    print(\"Predicted string: \", ''.join(result_str))\n",
    "\n",
    "print(\"Learning finished!\")"
   ]
  },
  {
   "cell_type": "code",
   "execution_count": null,
   "metadata": {
    "collapsed": true
   },
   "outputs": [],
   "source": []
  },
  {
   "cell_type": "code",
   "execution_count": null,
   "metadata": {
    "collapsed": true
   },
   "outputs": [],
   "source": []
  }
 ],
 "metadata": {
  "kernelspec": {
   "display_name": "Python [conda env:lab_conda]",
   "language": "python",
   "name": "conda-env-lab_conda-py"
  },
  "language_info": {
   "codemirror_mode": {
    "name": "ipython",
    "version": 3
   },
   "file_extension": ".py",
   "mimetype": "text/x-python",
   "name": "python",
   "nbconvert_exporter": "python",
   "pygments_lexer": "ipython3",
   "version": "3.6.2"
  }
 },
 "nbformat": 4,
 "nbformat_minor": 2
}
