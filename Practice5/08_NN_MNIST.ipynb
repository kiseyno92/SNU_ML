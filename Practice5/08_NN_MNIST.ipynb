{
 "cells": [
  {
   "cell_type": "markdown",
   "metadata": {},
   "source": [
    "# 08_NN_MNIST"
   ]
  },
  {
   "cell_type": "code",
   "execution_count": 6,
   "metadata": {
    "ExecuteTime": {
     "end_time": "2017-08-04T06:19:05.139990Z",
     "start_time": "2017-08-04T06:19:05.094314Z"
    }
   },
   "outputs": [
    {
     "data": {
      "text/plain": [
       "<torch._C.Generator at 0x7f368006a258>"
      ]
     },
     "execution_count": 6,
     "metadata": {},
     "output_type": "execute_result"
    }
   ],
   "source": [
    "# Pytorch Library\n",
    "import torch\n",
    "import torch.nn.init\n",
    "from torch.autograd import Variable\n",
    "\n",
    "torch.manual_seed(777)  # reproducibility"
   ]
  },
  {
   "cell_type": "code",
   "execution_count": 7,
   "metadata": {
    "ExecuteTime": {
     "end_time": "2017-08-04T06:19:05.388863Z",
     "start_time": "2017-08-04T06:19:05.383000Z"
    },
    "collapsed": true
   },
   "outputs": [],
   "source": [
    "import torchvision.utils as utils\n",
    "import torchvision.datasets as dsets\n",
    "import torchvision.transforms as transforms"
   ]
  },
  {
   "cell_type": "code",
   "execution_count": 27,
   "metadata": {
    "ExecuteTime": {
     "end_time": "2017-08-04T06:31:57.465344Z",
     "start_time": "2017-08-04T06:31:57.450254Z"
    },
    "collapsed": true
   },
   "outputs": [],
   "source": [
    "# Other Python Library\n",
    "%matplotlib inline\n",
    "import matplotlib.pyplot as plt\n",
    "import numpy as np\n",
    "import random"
   ]
  },
  {
   "cell_type": "markdown",
   "metadata": {},
   "source": [
    "### Loading MNIST dataset"
   ]
  },
  {
   "cell_type": "code",
   "execution_count": 9,
   "metadata": {
    "ExecuteTime": {
     "end_time": "2017-08-04T06:19:11.450526Z",
     "start_time": "2017-08-04T06:19:11.318171Z"
    },
    "collapsed": true
   },
   "outputs": [],
   "source": [
    "# MNIST dataset\n",
    "mnist_train = dsets.MNIST(root='data/',\n",
    "                          train=True,\n",
    "                          transform=transforms.ToTensor(),\n",
    "                          download=True)\n",
    "\n",
    "mnist_test = dsets.MNIST(root='data/',\n",
    "                         train=False,\n",
    "                         transform=transforms.ToTensor(),\n",
    "                         download=True)"
   ]
  },
  {
   "cell_type": "code",
   "execution_count": 28,
   "metadata": {
    "ExecuteTime": {
     "end_time": "2017-08-04T06:32:02.684640Z",
     "start_time": "2017-08-04T06:32:02.459770Z"
    }
   },
   "outputs": [
    {
     "name": "stdout",
     "output_type": "stream",
     "text": [
      "torch.Size([60000, 28, 28])\n",
      "torch.Size([60000])\n"
     ]
    },
    {
     "data": {
      "text/plain": [
       "<matplotlib.text.Text at 0x7f35dbf855c0>"
      ]
     },
     "execution_count": 28,
     "metadata": {},
     "output_type": "execute_result"
    },
    {
     "data": {
      "image/png": "[encoded data removed]",
      "text/plain": [
       "<matplotlib.figure.Figure at 0x7f35dbde1e10>"
      ]
     },
     "metadata": {},
     "output_type": "display_data"
    }
   ],
   "source": [
    "# plot one example\n",
    "print(mnist_train.train_data.size())                 # (60000, 28, 28)\n",
    "print(mnist_train.train_labels.size())               # (60000)\n",
    "\n",
    "idx = 0\n",
    "plt.imshow(mnist_train.train_data[idx,:,:].numpy(), cmap='gray')\n",
    "plt.title('%i' % mnist_train.train_labels[idx])"
   ]
  },
  {
   "cell_type": "markdown",
   "metadata": {},
   "source": [
    "### Data Loader (= 전체 Data를 쪼개서 Batch Size 단위로 불러 오는 역할)"
   ]
  },
  {
   "cell_type": "code",
   "execution_count": 10,
   "metadata": {
    "ExecuteTime": {
     "end_time": "2017-08-04T06:19:50.215496Z",
     "start_time": "2017-08-04T06:19:50.207462Z"
    },
    "collapsed": true
   },
   "outputs": [],
   "source": [
    "# Hyper-parameters\n",
    "batch_size = 100\n",
    "\n",
    "# dataset loader\n",
    "data_loader = torch.utils.data.DataLoader(dataset=mnist_train,\n",
    "                                          batch_size=batch_size,\n",
    "                                          shuffle=True,\n",
    "                                          num_workers=1)"
   ]
  },
  {
   "cell_type": "code",
   "execution_count": 19,
   "metadata": {
    "ExecuteTime": {
     "end_time": "2017-08-04T06:24:48.476875Z",
     "start_time": "2017-08-04T06:24:48.152243Z"
    }
   },
   "outputs": [
    {
     "name": "stdout",
     "output_type": "stream",
     "text": [
      "torch.Size([100, 1, 28, 28])\n",
      "torch.Size([100])\n"
     ]
    },
    {
     "data": {
      "image/png": "[encoded data removed]",
      "text/plain": [
       "<matplotlib.figure.Figure at 0x7f35dbdeaa90>"
      ]
     },
     "metadata": {},
     "output_type": "display_data"
    },
    {
     "data": {
      "text/plain": [
       "array([8, 8, 2, 7, 8, 6, 4, 3, 7, 3, 3, 6, 4, 1, 1, 5, 9, 4, 2, 0, 0, 6, 9,\n",
       "       4, 0, 3, 9, 2, 6, 4, 5, 7, 4, 9, 8, 4, 7, 6, 4, 1, 8, 6, 7, 7, 2, 5,\n",
       "       4, 1, 3, 7, 4, 8, 2, 8, 9, 3, 8, 8, 0, 6, 8, 0, 4, 3, 8, 2, 4, 6, 2,\n",
       "       6, 4, 9, 7, 7, 0, 6, 8, 2, 6, 9, 3, 9, 3, 4, 4, 1, 2, 1, 0, 1, 2, 4,\n",
       "       4, 1, 5, 7, 8, 9, 3, 8])"
      ]
     },
     "execution_count": 19,
     "metadata": {},
     "output_type": "execute_result"
    }
   ],
   "source": [
    "def imshow(img):\n",
    "    img = img / 2 + 0.5     # unnormalize\n",
    "    npimg = img.numpy()\n",
    "    plt.imshow(np.transpose(npimg, (1, 2, 0)))\n",
    "    plt.show()\n",
    "\n",
    "# #예를 들어서.. data_loader로 부터 데이터 뭉치를 하나만 불러 오자\n",
    "batch_images, batch_labels = next(iter(data_loader))\n",
    "\n",
    "print(batch_images.size())\n",
    "print(batch_labels.size())\n",
    "\n",
    "# show images and print labels\n",
    "imshow(utils.make_grid(batch_images))\n",
    "batch_labels.numpy()\n",
    "\n",
    "# 실제 사용 예시 for loop를 이용해서 image와 label을 읽어 온다.\n",
    "# for batch_images, batch_labels in data_loader:\n",
    "#     print(img.size())\n",
    "#     print(label)\n",
    "\n",
    "#enumerate를 사용하는 경우 image와 label을 읽는 것 뿐만 아니라 iter도 같이 계산\n",
    "# for i, (batch_images, batch_labels) in enumerate(data_loader):\n",
    "#     print(batch_images.size())\n",
    "#     print(batch_labels)"
   ]
  },
  {
   "cell_type": "markdown",
   "metadata": {},
   "source": [
    "### Define Neural Network Model"
   ]
  },
  {
   "cell_type": "code",
   "execution_count": 48,
   "metadata": {
    "ExecuteTime": {
     "end_time": "2017-08-04T06:34:59.752915Z",
     "start_time": "2017-08-04T06:34:59.721976Z"
    }
   },
   "outputs": [
    {
     "name": "stdout",
     "output_type": "stream",
     "text": [
      "Sequential (\n",
      "  (0): Linear (784 -> 512)\n",
      "  (1): ReLU ()\n",
      "  (2): Linear (512 -> 10)\n",
      ")\n"
     ]
    }
   ],
   "source": [
    "# Neural Network\n",
    "linear1 = torch.nn.Linear(784, 512, bias=True)\n",
    "linear2 = torch.nn.Linear(512, 10, bias=True)\n",
    "relu = torch.nn.ReLU()\n",
    "#sigmoid = torch.nn.Sigmoid()\n",
    "\n",
    "# model\n",
    "model = torch.nn.Sequential(linear1, relu, linear2)   \n",
    "\n",
    "#model.load_state_dict(torch.load('NN.pkl'))  # Load the Trained Model\n",
    "print(model)"
   ]
  },
  {
   "cell_type": "markdown",
   "metadata": {},
   "source": [
    "### Cost 함수 정의"
   ]
  },
  {
   "cell_type": "code",
   "execution_count": 41,
   "metadata": {
    "ExecuteTime": {
     "end_time": "2017-08-04T06:34:07.052610Z",
     "start_time": "2017-08-04T06:34:07.047138Z"
    },
    "collapsed": true
   },
   "outputs": [],
   "source": [
    "# Softmax 함수가 Cost를 계산할 때 내장되어 있다.\n",
    "cost_func = torch.nn.CrossEntropyLoss()    "
   ]
  },
  {
   "cell_type": "markdown",
   "metadata": {},
   "source": [
    "### Model 학습"
   ]
  },
  {
   "cell_type": "code",
   "execution_count": 51,
   "metadata": {
    "ExecuteTime": {
     "end_time": "2017-08-04T06:36:25.054638Z",
     "start_time": "2017-08-04T06:35:27.308784Z"
    }
   },
   "outputs": [
    {
     "name": "stdout",
     "output_type": "stream",
     "text": [
      "[Epoch:    1] cost = 0.291562766\n",
      "[Epoch:    2] cost = 0.114509255\n",
      "[Epoch:    3] cost = 0.0747233555\n",
      "[Epoch:    4] cost = 0.0530239083\n",
      "[Epoch:    5] cost = 0.0399747863\n",
      "Learning Finished!\n"
     ]
    }
   ],
   "source": [
    "# Hyper-parameters\n",
    "learning_rate = 0.001 \n",
    "training_epochs = 5\n",
    "\n",
    "# Adam Optimizer\n",
    "optimizer = torch.optim.Adam(model.parameters(), lr=learning_rate)\n",
    "\n",
    "# Train model\n",
    "for epoch in range(training_epochs):\n",
    "    avg_cost = 0\n",
    "    total_batch = len(mnist_train) // batch_size\n",
    "\n",
    "    for i, (batch_images, batch_labels) in enumerate(data_loader):\n",
    "        \n",
    "        # 이미지를 [batch_size x 784] size 행렬로 변환\n",
    "        \n",
    "        X = Variable(batch_images.view(-1, 28 * 28))\n",
    "        Y = Variable(batch_labels)        # label is not one-hot encoded\n",
    "\n",
    "        optimizer.zero_grad()             # Zero Gradient Container\n",
    "        Y_prediction = model(X)           # Forward Propagation\n",
    "        cost = cost_func(Y_prediction, Y) # compute cost\n",
    "        cost.backward()                   # compute gradient\n",
    "        optimizer.step()                  # gradient update\n",
    "\n",
    "        avg_cost += cost / total_batch\n",
    "\n",
    "    print(\"[Epoch: {:>4}] cost = {:>.9}\".format(epoch + 1, avg_cost.data[0]))\n",
    "\n",
    "print('Learning Finished!')\n",
    "torch.save(model.state_dict(), 'NN.pkl')  # Save the Model"
   ]
  },
  {
   "cell_type": "code",
   "execution_count": 50,
   "metadata": {
    "ExecuteTime": {
     "end_time": "2017-08-04T06:35:23.276675Z",
     "start_time": "2017-08-04T06:35:23.239465Z"
    }
   },
   "outputs": [
    {
     "data": {
      "text/plain": [
       "OrderedDict([('0.weight', \n",
       "              -2.3496e-02  2.9788e-02 -1.7264e-03  ...   1.1420e-02  3.5596e-03 -2.0659e-02\n",
       "               2.5164e-03 -1.2785e-02  3.4308e-02  ...  -3.2980e-02  3.2557e-02 -2.6513e-02\n",
       "              -2.1505e-02 -2.0751e-02  1.2887e-04  ...  -1.3800e-02  1.3477e-03 -2.6379e-02\n",
       "                              ...                   ⋱                   ...                \n",
       "              -1.5719e-02 -1.9760e-02  2.7627e-02  ...   3.4418e-02  2.4713e-02  1.6831e-02\n",
       "              -9.7556e-03 -2.8041e-02  1.8751e-02  ...  -2.5325e-02  1.6545e-02  1.0813e-03\n",
       "              -3.5254e-02  2.2254e-02  3.4663e-02  ...  -1.6771e-02 -2.2863e-02 -2.9022e-02\n",
       "              [torch.FloatTensor of size 512x784]), ('0.bias', \n",
       "              1.00000e-02 *\n",
       "               -2.3553\n",
       "               -2.6453\n",
       "                3.0343\n",
       "                2.2883\n",
       "               -3.1233\n",
       "               -2.1367\n",
       "                1.5566\n",
       "               -2.9571\n",
       "                3.3401\n",
       "               -3.1516\n",
       "               -2.1481\n",
       "               -1.2091\n",
       "               -0.0850\n",
       "                2.6428\n",
       "               -0.8040\n",
       "               -2.8000\n",
       "               -1.0764\n",
       "                3.2807\n",
       "               -2.2573\n",
       "               -0.3775\n",
       "               -2.9263\n",
       "               -1.5429\n",
       "               -2.5113\n",
       "               -3.4202\n",
       "                0.8385\n",
       "               -3.5181\n",
       "               -2.6820\n",
       "               -1.8628\n",
       "                1.6112\n",
       "                1.8237\n",
       "               -1.9087\n",
       "                1.4123\n",
       "                2.0861\n",
       "               -2.3882\n",
       "                2.4071\n",
       "               -0.8165\n",
       "                3.3986\n",
       "               -1.3187\n",
       "                2.5700\n",
       "               -1.6501\n",
       "               -0.6016\n",
       "               -0.5085\n",
       "                1.8953\n",
       "               -2.8064\n",
       "                1.1396\n",
       "               -2.3410\n",
       "               -0.1951\n",
       "               -3.2319\n",
       "                2.9314\n",
       "               -3.2882\n",
       "               -1.2578\n",
       "                0.2191\n",
       "               -0.1490\n",
       "               -3.0703\n",
       "                3.2597\n",
       "                0.3758\n",
       "                0.1239\n",
       "                2.3969\n",
       "               -3.2709\n",
       "                1.0702\n",
       "               -0.8069\n",
       "               -2.8044\n",
       "               -3.4624\n",
       "                2.0749\n",
       "               -0.2887\n",
       "                0.1121\n",
       "               -3.5021\n",
       "               -2.0616\n",
       "                0.5668\n",
       "               -0.9125\n",
       "                1.8797\n",
       "                3.1180\n",
       "               -0.9413\n",
       "                1.5000\n",
       "                1.3766\n",
       "                0.5141\n",
       "                2.4657\n",
       "                3.2890\n",
       "               -2.4170\n",
       "                1.2798\n",
       "                2.4782\n",
       "                3.5350\n",
       "                2.6479\n",
       "                0.0432\n",
       "                0.2869\n",
       "               -2.4598\n",
       "                1.2100\n",
       "                0.1626\n",
       "                0.6305\n",
       "                0.0054\n",
       "               -2.4442\n",
       "               -0.5276\n",
       "                0.9066\n",
       "                3.4227\n",
       "               -1.0035\n",
       "                2.1802\n",
       "               -2.0636\n",
       "               -0.0076\n",
       "                0.0530\n",
       "                2.4854\n",
       "               -0.6937\n",
       "                1.8330\n",
       "                3.3897\n",
       "                3.5056\n",
       "                0.1438\n",
       "               -2.9699\n",
       "               -2.2182\n",
       "                0.7438\n",
       "               -0.9424\n",
       "                3.1882\n",
       "               -1.3609\n",
       "               -1.3448\n",
       "               -0.3865\n",
       "                0.8751\n",
       "                3.2298\n",
       "               -3.4289\n",
       "                1.8370\n",
       "                0.9028\n",
       "               -2.8113\n",
       "               -0.6247\n",
       "               -2.7277\n",
       "               -1.3583\n",
       "                2.0884\n",
       "                2.1453\n",
       "               -2.5761\n",
       "               -2.6445\n",
       "               -2.0787\n",
       "                1.7068\n",
       "                1.5705\n",
       "               -2.1621\n",
       "                0.7645\n",
       "                0.2741\n",
       "               -2.7793\n",
       "                1.2225\n",
       "                0.2663\n",
       "               -0.0852\n",
       "                3.4696\n",
       "                1.3617\n",
       "               -1.2560\n",
       "               -2.5454\n",
       "                2.3261\n",
       "               -3.4097\n",
       "                3.1463\n",
       "                3.4688\n",
       "                0.0341\n",
       "                2.0143\n",
       "                2.0194\n",
       "               -2.2106\n",
       "                1.3329\n",
       "               -1.1817\n",
       "               -3.1543\n",
       "                2.5460\n",
       "                0.6520\n",
       "               -0.0107\n",
       "               -3.3803\n",
       "                0.0391\n",
       "                2.7123\n",
       "                3.1975\n",
       "               -0.2115\n",
       "                2.8922\n",
       "               -1.9887\n",
       "               -3.4945\n",
       "               -2.8191\n",
       "                1.2206\n",
       "               -1.4639\n",
       "               -2.8291\n",
       "               -2.9863\n",
       "                1.2345\n",
       "               -0.7711\n",
       "                2.4483\n",
       "                0.2346\n",
       "               -1.6019\n",
       "                2.6920\n",
       "               -3.0526\n",
       "                1.9864\n",
       "                1.2633\n",
       "               -1.0319\n",
       "               -3.4819\n",
       "               -0.1132\n",
       "                3.5383\n",
       "               -3.0511\n",
       "                1.5865\n",
       "               -0.4105\n",
       "                1.5911\n",
       "               -1.3778\n",
       "                2.0947\n",
       "                2.6765\n",
       "               -1.3451\n",
       "                3.3554\n",
       "                3.3513\n",
       "               -0.9808\n",
       "                2.8308\n",
       "               -3.2272\n",
       "                0.5691\n",
       "                0.5572\n",
       "                1.4578\n",
       "                0.4720\n",
       "               -2.0083\n",
       "                0.6627\n",
       "                2.1885\n",
       "                2.1171\n",
       "                3.4836\n",
       "               -1.3903\n",
       "                0.2205\n",
       "                0.7160\n",
       "               -1.7778\n",
       "                0.4326\n",
       "               -2.0349\n",
       "               -0.6734\n",
       "                2.1960\n",
       "               -2.1789\n",
       "               -0.1609\n",
       "               -2.0775\n",
       "                2.5277\n",
       "               -1.1704\n",
       "               -0.1715\n",
       "                1.8529\n",
       "                2.2519\n",
       "                2.5294\n",
       "                0.5104\n",
       "               -0.7717\n",
       "               -2.5538\n",
       "               -2.3655\n",
       "                2.9684\n",
       "               -2.1508\n",
       "               -1.1328\n",
       "               -3.4231\n",
       "                3.4485\n",
       "                0.3511\n",
       "               -0.8689\n",
       "               -0.4363\n",
       "                2.9032\n",
       "                0.4320\n",
       "                2.8540\n",
       "                2.0288\n",
       "                0.2308\n",
       "                1.8907\n",
       "                1.8703\n",
       "               -0.4203\n",
       "               -1.2873\n",
       "                0.4091\n",
       "                2.7461\n",
       "                2.8902\n",
       "               -1.4762\n",
       "                2.2648\n",
       "                1.0650\n",
       "                0.7851\n",
       "               -2.3670\n",
       "                1.2870\n",
       "               -0.3435\n",
       "                2.6111\n",
       "               -2.5615\n",
       "                0.1935\n",
       "                2.0102\n",
       "               -0.4063\n",
       "                1.5359\n",
       "                0.4778\n",
       "                1.1094\n",
       "                0.8822\n",
       "                1.3381\n",
       "               -1.4139\n",
       "                3.4538\n",
       "               -2.2885\n",
       "               -1.7481\n",
       "                3.1288\n",
       "               -3.3504\n",
       "               -3.5228\n",
       "               -2.7743\n",
       "                3.4625\n",
       "               -1.6650\n",
       "               -2.9002\n",
       "                3.5688\n",
       "                0.1623\n",
       "               -3.0064\n",
       "               -1.4784\n",
       "               -1.9098\n",
       "               -0.1898\n",
       "               -2.9951\n",
       "               -1.5544\n",
       "               -2.4125\n",
       "               -0.3282\n",
       "               -1.8300\n",
       "                2.9710\n",
       "               -1.4617\n",
       "               -0.0272\n",
       "               -3.4345\n",
       "                1.6931\n",
       "               -2.3837\n",
       "               -2.3563\n",
       "                2.2599\n",
       "               -1.1737\n",
       "               -2.2426\n",
       "                2.5688\n",
       "                2.3264\n",
       "                0.3521\n",
       "               -0.1164\n",
       "               -1.0359\n",
       "                0.2768\n",
       "               -1.7630\n",
       "               -2.5943\n",
       "                2.1391\n",
       "                1.5562\n",
       "                3.2509\n",
       "                0.7878\n",
       "               -1.0313\n",
       "                1.1207\n",
       "               -3.2799\n",
       "                2.3148\n",
       "               -3.5618\n",
       "               -2.7915\n",
       "                2.9625\n",
       "               -1.0464\n",
       "               -1.3386\n",
       "                2.0072\n",
       "               -3.0078\n",
       "                3.4366\n",
       "                0.5337\n",
       "                0.8686\n",
       "                1.0250\n",
       "               -1.6504\n",
       "                3.2727\n",
       "               -1.7313\n",
       "                1.5070\n",
       "                0.0947\n",
       "                3.1590\n",
       "                1.2512\n",
       "               -1.9056\n",
       "               -2.0119\n",
       "               -3.2972\n",
       "               -0.3196\n",
       "               -0.2522\n",
       "               -0.2826\n",
       "               -1.2559\n",
       "               -1.3962\n",
       "               -0.4633\n",
       "               -2.5335\n",
       "               -2.7912\n",
       "                0.0485\n",
       "               -3.5297\n",
       "               -2.4014\n",
       "               -3.4062\n",
       "               -2.7558\n",
       "                1.6678\n",
       "                2.7483\n",
       "                1.0598\n",
       "                0.0142\n",
       "                0.8290\n",
       "               -0.0874\n",
       "               -0.1683\n",
       "               -0.0610\n",
       "                1.5084\n",
       "               -1.7381\n",
       "                1.0701\n",
       "                0.7625\n",
       "                2.5659\n",
       "                1.0253\n",
       "               -0.8440\n",
       "                2.4046\n",
       "               -0.9898\n",
       "                3.1596\n",
       "                0.6279\n",
       "               -1.2795\n",
       "               -0.6006\n",
       "               -3.3855\n",
       "                0.0570\n",
       "                1.9536\n",
       "                1.0478\n",
       "                2.8595\n",
       "               -3.1910\n",
       "               -2.3758\n",
       "               -3.5326\n",
       "                3.0020\n",
       "                1.3199\n",
       "                1.7847\n",
       "               -1.8730\n",
       "                3.1556\n",
       "               -1.7133\n",
       "                2.9998\n",
       "               -0.8541\n",
       "                0.9468\n",
       "               -3.0378\n",
       "               -2.3171\n",
       "               -3.1858\n",
       "               -1.8240\n",
       "                2.1284\n",
       "               -1.0451\n",
       "                2.5863\n",
       "               -3.1903\n",
       "                2.8594\n",
       "                0.4364\n",
       "               -3.3574\n",
       "               -1.7679\n",
       "                0.8841\n",
       "                1.7672\n",
       "                1.6901\n",
       "               -0.6244\n",
       "                1.9117\n",
       "               -3.0435\n",
       "                2.4238\n",
       "                0.2991\n",
       "               -1.2388\n",
       "                2.9010\n",
       "                0.3632\n",
       "               -2.8417\n",
       "                1.5224\n",
       "               -0.3524\n",
       "                2.5578\n",
       "                0.7850\n",
       "               -2.8999\n",
       "                0.0103\n",
       "               -0.8369\n",
       "                1.0645\n",
       "                3.5065\n",
       "               -1.9673\n",
       "               -1.6908\n",
       "               -2.6221\n",
       "               -0.7847\n",
       "               -2.4204\n",
       "                0.3483\n",
       "               -1.4609\n",
       "               -1.3369\n",
       "                3.1134\n",
       "                2.0878\n",
       "                2.9270\n",
       "               -1.4726\n",
       "                1.7519\n",
       "                2.7774\n",
       "                2.1507\n",
       "               -2.8465\n",
       "                1.8537\n",
       "               -2.3724\n",
       "                1.1938\n",
       "               -0.8638\n",
       "                1.8465\n",
       "                3.1385\n",
       "               -3.1276\n",
       "               -2.9783\n",
       "               -3.4153\n",
       "               -3.2074\n",
       "               -2.4258\n",
       "                2.0432\n",
       "               -1.1392\n",
       "                0.7319\n",
       "               -2.6145\n",
       "               -2.1197\n",
       "               -1.2575\n",
       "                1.6930\n",
       "                1.4557\n",
       "                0.7199\n",
       "               -2.8050\n",
       "                2.2339\n",
       "                1.0211\n",
       "               -0.9952\n",
       "                0.0983\n",
       "               -2.2851\n",
       "               -2.2415\n",
       "                2.5922\n",
       "               -2.5172\n",
       "                0.9950\n",
       "                2.4192\n",
       "                2.7259\n",
       "                0.7804\n",
       "                3.0033\n",
       "               -0.3040\n",
       "               -3.2007\n",
       "               -2.3310\n",
       "               -2.0055\n",
       "                1.2702\n",
       "               -1.3865\n",
       "               -1.0364\n",
       "               -0.6340\n",
       "                1.3547\n",
       "                3.3839\n",
       "               -2.6511\n",
       "               -0.2354\n",
       "                1.4610\n",
       "                2.3329\n",
       "                1.0671\n",
       "               -0.4548\n",
       "               -2.8125\n",
       "                3.2924\n",
       "                0.4587\n",
       "                1.3335\n",
       "               -0.8581\n",
       "               -2.1694\n",
       "                1.4527\n",
       "               -1.3863\n",
       "               -3.1210\n",
       "                2.5191\n",
       "               -0.1687\n",
       "               -0.0682\n",
       "                2.6591\n",
       "                1.2109\n",
       "                2.1558\n",
       "                0.0722\n",
       "               -3.0620\n",
       "               -0.6197\n",
       "                3.0513\n",
       "                2.6453\n",
       "               -3.3090\n",
       "                0.3168\n",
       "               -2.8345\n",
       "               -1.0068\n",
       "                1.4428\n",
       "                2.4972\n",
       "                3.4624\n",
       "               -2.8031\n",
       "               -0.8754\n",
       "                1.3821\n",
       "               -3.5416\n",
       "               -0.7748\n",
       "               -1.2046\n",
       "              [torch.FloatTensor of size 512]), ('2.weight', \n",
       "              1.00000e-02 *\n",
       "               3.0333  2.0057 -0.9666  ...   3.6867  0.4237  3.0113\n",
       "              -1.1873 -0.0427  4.1080  ...   1.8256  1.1729  1.7186\n",
       "               3.5718  2.3841 -3.5690  ...  -4.0433  2.5602 -0.3159\n",
       "                        ...             ⋱             ...          \n",
       "               0.4649  2.7811  1.9414  ...   2.2403  1.7038 -3.8776\n",
       "              -1.7295 -1.6764  3.5411  ...   0.6390  3.7691 -1.0047\n",
       "              -1.7008 -2.1778  2.0022  ...   2.3867  3.8542 -0.4765\n",
       "              [torch.FloatTensor of size 10x512]), ('2.bias', \n",
       "              1.00000e-02 *\n",
       "               -1.7779\n",
       "               -2.0617\n",
       "                2.8643\n",
       "               -2.1944\n",
       "               -1.9716\n",
       "                4.0888\n",
       "               -0.2323\n",
       "               -3.6444\n",
       "                2.7555\n",
       "               -3.0499\n",
       "              [torch.FloatTensor of size 10])])"
      ]
     },
     "execution_count": 50,
     "metadata": {},
     "output_type": "execute_result"
    }
   ],
   "source": [
    "model.state_dict()"
   ]
  },
  {
   "cell_type": "markdown",
   "metadata": {},
   "source": [
    "### Test Dataset 이용한 모형 성능 측정"
   ]
  },
  {
   "cell_type": "code",
   "execution_count": 43,
   "metadata": {
    "ExecuteTime": {
     "end_time": "2017-08-04T06:34:42.451357Z",
     "start_time": "2017-08-04T06:34:39.768028Z"
    }
   },
   "outputs": [
    {
     "name": "stdout",
     "output_type": "stream",
     "text": [
      "Accuracy of the network on the 10000 test images: 9 %\n"
     ]
    }
   ],
   "source": [
    "# Test the Model\n",
    "correct = 0\n",
    "total = 0\n",
    "for images, labels in mnist_test:\n",
    "    images = Variable(images.view(-1, 28*28))\n",
    "    outputs = model(images)\n",
    "    _, predicted = torch.max(outputs.data, 1)\n",
    "    total += 1\n",
    "    correct += (predicted == labels).sum()\n",
    "\n",
    "print('Accuracy of the network on the 10000 test images: %d %%' % (100 * correct / total))"
   ]
  },
  {
   "cell_type": "markdown",
   "metadata": {},
   "source": [
    "### Random Sample Test"
   ]
  },
  {
   "cell_type": "code",
   "execution_count": 49,
   "metadata": {
    "ExecuteTime": {
     "end_time": "2017-08-04T06:35:10.341578Z",
     "start_time": "2017-08-04T06:35:10.111597Z"
    }
   },
   "outputs": [
    {
     "name": "stdout",
     "output_type": "stream",
     "text": [
      "Label:  \n",
      " 8\n",
      "[torch.LongTensor of size 1]\n",
      "\n",
      "Prediction:  \n",
      " 3\n",
      "[torch.LongTensor of size 1]\n",
      "\n"
     ]
    },
    {
     "data": {
      "image/png": "[encoded data removed]",
      "text/plain": [
       "<matplotlib.figure.Figure at 0x7f35dbde1be0>"
      ]
     },
     "metadata": {},
     "output_type": "display_data"
    }
   ],
   "source": [
    "# Get one and predict\n",
    "r = random.randint(0, len(mnist_test) - 1)\n",
    "X_single_data = Variable(mnist_test.test_data[r:r + 1].view(-1, 28 * 28).float())\n",
    "Y_single_data = Variable(mnist_test.test_labels[r:r + 1])\n",
    "\n",
    "single_prediction = model(X_single_data)\n",
    "\n",
    "plt.imshow(X_single_data.data.view(28,28).numpy() , cmap='gray')\n",
    "\n",
    "print(\"Label: \", Y_single_data.data)\n",
    "print(\"Prediction: \", torch.max(single_prediction.data, 1)[1])"
   ]
  },
  {
   "cell_type": "code",
   "execution_count": 30,
   "metadata": {
    "ExecuteTime": {
     "end_time": "2017-08-04T06:32:28.700751Z",
     "start_time": "2017-08-04T06:32:25.675470Z"
    }
   },
   "outputs": [
    {
     "data": {
      "image/png": "[encoded data removed]",
      "text/plain": [
       "<matplotlib.figure.Figure at 0x7f363e234588>"
      ]
     },
     "metadata": {},
     "output_type": "display_data"
    },
    {
     "data": {
      "image/png": "[encoded data removed]",
      "text/plain": [
       "<matplotlib.figure.Figure at 0x7f3634046908>"
      ]
     },
     "metadata": {},
     "output_type": "display_data"
    },
    {
     "data": {
      "image/png": "[encoded data removed]",
      "text/plain": [
       "<matplotlib.figure.Figure at 0x7f35d0133668>"
      ]
     },
     "metadata": {},
     "output_type": "display_data"
    },
    {
     "data": {
      "image/png": "[encoded data removed]",
      "text/plain": [
       "<matplotlib.figure.Figure at 0x7f35d808e198>"
      ]
     },
     "metadata": {},
     "output_type": "display_data"
    },
    {
     "data": {
      "image/png": "[encoded data removed]",
      "text/plain": [
       "<matplotlib.figure.Figure at 0x7f35d0052b38>"
      ]
     },
     "metadata": {},
     "output_type": "display_data"
    },
    {
     "data": {
      "image/png": "[encoded data removed]",
      "text/plain": [
       "<matplotlib.figure.Figure at 0x7f35d00a3748>"
      ]
     },
     "metadata": {},
     "output_type": "display_data"
    },
    {
     "data": {
      "image/png": "[encoded data removed]",
      "text/plain": [
       "<matplotlib.figure.Figure at 0x7f3634031208>"
      ]
     },
     "metadata": {},
     "output_type": "display_data"
    },
    {
     "data": {
      "image/png": "[encoded data removed]",
      "text/plain": [
       "<matplotlib.figure.Figure at 0x7f36958157b8>"
      ]
     },
     "metadata": {},
     "output_type": "display_data"
    },
    {
     "data": {
      "image/png": "[encoded data removed]",
      "text/plain": [
       "<matplotlib.figure.Figure at 0x7f35d00c1c18>"
      ]
     },
     "metadata": {},
     "output_type": "display_data"
    },
    {
     "data": {
      "image/png": "[encoded data removed]",
      "text/plain": [
       "<matplotlib.figure.Figure at 0x7f35d011e518>"
      ]
     },
     "metadata": {},
     "output_type": "display_data"
    },
    {
     "data": {
      "image/png": "[encoded data removed]",
      "text/plain": [
       "<matplotlib.figure.Figure at 0x7f35a80647b8>"
      ]
     },
     "metadata": {},
     "output_type": "display_data"
    },
    {
     "data": {
      "image/png": "[encoded data removed]",
      "text/plain": [
       "<matplotlib.figure.Figure at 0x7f35d018d358>"
      ]
     },
     "metadata": {},
     "output_type": "display_data"
    },
    {
     "data": {
      "image/png": "[encoded data removed]",
      "text/plain": [
       "<matplotlib.figure.Figure at 0x7f35a21764a8>"
      ]
     },
     "metadata": {},
     "output_type": "display_data"
    },
    {
     "data": {
      "image/png": "[encoded data removed]",
      "text/plain": [
       "<matplotlib.figure.Figure at 0x7f35d8092160>"
      ]
     },
     "metadata": {},
     "output_type": "display_data"
    },
    {
     "data": {
      "image/png": "[encoded data removed]",
      "text/plain": [
       "<matplotlib.figure.Figure at 0x7f35a208ee80>"
      ]
     },
     "metadata": {},
     "output_type": "display_data"
    },
    {
     "data": {
      "image/png": "[encoded data removed]",
      "text/plain": [
       "<matplotlib.figure.Figure at 0x7f35a2146908>"
      ]
     },
     "metadata": {},
     "output_type": "display_data"
    },
    {
     "data": {
      "image/png": "[encoded data removed]",
      "text/plain": [
       "<matplotlib.figure.Figure at 0x7f35a2032940>"
      ]
     },
     "metadata": {},
     "output_type": "display_data"
    },
    {
     "data": {
      "image/png": "[encoded data removed]",
      "text/plain": [
       "<matplotlib.figure.Figure at 0x7f35d807c470>"
      ]
     },
     "metadata": {},
     "output_type": "display_data"
    },
    {
     "data": {
      "image/png": "[encoded data removed]",
      "text/plain": [
       "<matplotlib.figure.Figure at 0x7f35a2067b70>"
      ]
     },
     "metadata": {},
     "output_type": "display_data"
    },
    {
     "data": {
      "image/png": "[encoded data removed]",
      "text/plain": [
       "<matplotlib.figure.Figure at 0x7f35a2008828>"
      ]
     },
     "metadata": {},
     "output_type": "display_data"
    }
   ],
   "source": [
    "for i in range(20):\n",
    "    weight = model[0].weight[i,:].data.view(28,28) \n",
    "    weight = (weight - torch.min(weight))/(torch.max(weight)-torch.min(weight))\n",
    "    plt.imshow( weight.numpy(), cmap='gray')\n",
    "    plt.show()"
   ]
  },
  {
   "cell_type": "code",
   "execution_count": null,
   "metadata": {
    "collapsed": true
   },
   "outputs": [],
   "source": []
  }
 ],
 "metadata": {
  "kernelspec": {
   "display_name": "Python [default]",
   "language": "python",
   "name": "python3"
  },
  "language_info": {
   "codemirror_mode": {
    "name": "ipython",
    "version": 3
   },
   "file_extension": ".py",
   "mimetype": "text/x-python",
   "name": "python",
   "nbconvert_exporter": "python",
   "pygments_lexer": "ipython3",
   "version": "3.6.2"
  }
 },
 "nbformat": 4,
 "nbformat_minor": 2
}
