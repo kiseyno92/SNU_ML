{
 "cells": [
  {
   "cell_type": "code",
   "execution_count": 20,
   "metadata": {
    "ExecuteTime": {
     "end_time": "2017-08-04T07:38:17.514696Z",
     "start_time": "2017-08-04T07:38:17.504024Z"
    },
    "collapsed": true
   },
   "outputs": [],
   "source": [
    "import torch\n",
    "import torch.nn as nn\n",
    "from torch.autograd import Variable\n",
    "from torch.optim import SGD\n",
    "from torch.nn import CrossEntropyLoss\n",
    "\n",
    "from time import time\n",
    "import copy"
   ]
  },
  {
   "cell_type": "code",
   "execution_count": 50,
   "metadata": {
    "ExecuteTime": {
     "end_time": "2017-08-04T07:50:51.385646Z",
     "start_time": "2017-08-04T07:50:51.379452Z"
    },
    "collapsed": true
   },
   "outputs": [],
   "source": [
    "seq_len = 10\n",
    "batch_size = 3\n",
    "hidden_size = 5\n",
    "num_layers = 1"
   ]
  },
  {
   "cell_type": "markdown",
   "metadata": {},
   "source": [
    "### Prepare Data"
   ]
  },
  {
   "cell_type": "code",
   "execution_count": 51,
   "metadata": {
    "ExecuteTime": {
     "end_time": "2017-08-04T07:50:51.949189Z",
     "start_time": "2017-08-04T07:50:51.936840Z"
    }
   },
   "outputs": [
    {
     "data": {
      "text/plain": [
       "(torch.Size([3, 10, 5]), torch.Size([3, 10]))"
      ]
     },
     "execution_count": 51,
     "metadata": {},
     "output_type": "execute_result"
    }
   ],
   "source": [
    "inputs = Variable(torch.randn(batch_size, seq_len, hidden_size)).cuda()\n",
    "labels = Variable(torch.ones(batch_size, seq_len).long()).cuda()\n",
    "\n",
    "inputs.size(), labels.size()"
   ]
  },
  {
   "cell_type": "markdown",
   "metadata": {},
   "source": [
    "### Define model, Loss function, optimizer"
   ]
  },
  {
   "cell_type": "code",
   "execution_count": 52,
   "metadata": {
    "ExecuteTime": {
     "end_time": "2017-08-04T07:50:52.716493Z",
     "start_time": "2017-08-04T07:50:52.703000Z"
    }
   },
   "outputs": [],
   "source": [
    "rnn = nn.RNN( hidden_size, hidden_size, num_layers, batch_first=True).cuda()\n",
    "h_n = Variable(torch.randn(1, batch_size, hidden_size)).cuda()\n",
    "\n",
    "loss_fn = CrossEntropyLoss()\n",
    "opt = SGD(rnn.parameters(), lr=0.01)"
   ]
  },
  {
   "cell_type": "markdown",
   "metadata": {},
   "source": [
    "### RNN module"
   ]
  },
  {
   "cell_type": "code",
   "execution_count": 55,
   "metadata": {
    "ExecuteTime": {
     "end_time": "2017-08-04T07:51:19.329753Z",
     "start_time": "2017-08-04T07:51:11.652864Z"
    }
   },
   "outputs": [
    {
     "name": "stdout",
     "output_type": "stream",
     "text": [
      "Variable containing:\n",
      " 4.6870\n",
      "[torch.cuda.FloatTensor of size 1 (GPU 0)]\n",
      "\n",
      "Variable containing:\n",
      " 4.4893\n",
      "[torch.cuda.FloatTensor of size 1 (GPU 0)]\n",
      "\n",
      "Variable containing:\n",
      " 4.4324\n",
      "[torch.cuda.FloatTensor of size 1 (GPU 0)]\n",
      "\n",
      "Variable containing:\n",
      " 4.4055\n",
      "[torch.cuda.FloatTensor of size 1 (GPU 0)]\n",
      "\n",
      "Variable containing:\n",
      " 4.3898\n",
      "[torch.cuda.FloatTensor of size 1 (GPU 0)]\n",
      "\n",
      "Variable containing:\n",
      " 4.3793\n",
      "[torch.cuda.FloatTensor of size 1 (GPU 0)]\n",
      "\n",
      "Variable containing:\n",
      " 4.3719\n",
      "[torch.cuda.FloatTensor of size 1 (GPU 0)]\n",
      "\n",
      "Variable containing:\n",
      " 4.3664\n",
      "[torch.cuda.FloatTensor of size 1 (GPU 0)]\n",
      "\n",
      "Variable containing:\n",
      " 4.3621\n",
      "[torch.cuda.FloatTensor of size 1 (GPU 0)]\n",
      "\n",
      "Variable containing:\n",
      " 4.3586\n",
      "[torch.cuda.FloatTensor of size 1 (GPU 0)]\n",
      "\n",
      "7.64\n"
     ]
    }
   ],
   "source": [
    "start = time()\n",
    "\n",
    "for i in range(1000):\n",
    "    loss = 0\n",
    "    \n",
    "    out, last_h = rnn(inputs, h_n)\n",
    "    \n",
    "    # out: [batch_size, seq_len, hidden_size]\n",
    "    # lables: [batch_size, seq_len]\n",
    "    \n",
    "    for j in range(seq_len):\n",
    "        loss += loss_fn(out[:,j,:], labels[:,j])\n",
    "        \n",
    "    opt.zero_grad()\n",
    "    loss.backward()\n",
    "    opt.step()\n",
    "    \n",
    "    if (i+1) % 100 == 0:\n",
    "        print(loss)\n",
    "\n",
    "print(f'{time() - start:.2f}')"
   ]
  },
  {
   "cell_type": "markdown",
   "metadata": {},
   "source": [
    "### RNNCell"
   ]
  },
  {
   "cell_type": "code",
   "execution_count": 57,
   "metadata": {
    "ExecuteTime": {
     "end_time": "2017-08-04T07:52:14.672811Z",
     "start_time": "2017-08-04T07:52:14.664498Z"
    },
    "collapsed": true
   },
   "outputs": [],
   "source": [
    "rnncell = nn.RNNCell(hidden_size, hidden_size).cuda()\n",
    "loss_fn = CrossEntropyLoss()\n",
    "opt = SGD(rnncell.parameters(), lr=0.01)"
   ]
  },
  {
   "cell_type": "code",
   "execution_count": 58,
   "metadata": {
    "ExecuteTime": {
     "end_time": "2017-08-04T07:52:37.677713Z",
     "start_time": "2017-08-04T07:52:37.666624Z"
    },
    "collapsed": true
   },
   "outputs": [],
   "source": [
    "inputs = Variable(torch.randn(batch_size,seq_len, hidden_size)).cuda()\n",
    "labels = Variable(torch.ones(batch_size, seq_len).long()).cuda()\n",
    "h = Variable(torch.randn(batch_size,hidden_size)).cuda()"
   ]
  },
  {
   "cell_type": "code",
   "execution_count": 62,
   "metadata": {
    "ExecuteTime": {
     "end_time": "2017-08-04T07:55:43.036363Z",
     "start_time": "2017-08-04T07:55:30.971338Z"
    }
   },
   "outputs": [
    {
     "name": "stdout",
     "output_type": "stream",
     "text": [
      "Variable containing:\n",
      " 4.3610\n",
      "[torch.cuda.FloatTensor of size 1 (GPU 0)]\n",
      "\n",
      "Variable containing:\n",
      " 4.3583\n",
      "[torch.cuda.FloatTensor of size 1 (GPU 0)]\n",
      "\n",
      "Variable containing:\n",
      " 4.3560\n",
      "[torch.cuda.FloatTensor of size 1 (GPU 0)]\n",
      "\n",
      "Variable containing:\n",
      " 4.3540\n",
      "[torch.cuda.FloatTensor of size 1 (GPU 0)]\n",
      "\n",
      "Variable containing:\n",
      " 4.3522\n",
      "[torch.cuda.FloatTensor of size 1 (GPU 0)]\n",
      "\n",
      "Variable containing:\n",
      " 4.3507\n",
      "[torch.cuda.FloatTensor of size 1 (GPU 0)]\n",
      "\n",
      "Variable containing:\n",
      " 4.3494\n",
      "[torch.cuda.FloatTensor of size 1 (GPU 0)]\n",
      "\n",
      "Variable containing:\n",
      " 4.3482\n",
      "[torch.cuda.FloatTensor of size 1 (GPU 0)]\n",
      "\n",
      "Variable containing:\n",
      " 4.3471\n",
      "[torch.cuda.FloatTensor of size 1 (GPU 0)]\n",
      "\n",
      "Variable containing:\n",
      " 4.3461\n",
      "[torch.cuda.FloatTensor of size 1 (GPU 0)]\n",
      "\n",
      "12.03\n"
     ]
    }
   ],
   "source": [
    "start = time()\n",
    "for i in range(1000):\n",
    "    loss = 0\n",
    "    \n",
    "    h_next = Variable(h.data.new(batch_size,hidden_size)).cuda()\n",
    "\n",
    "    for j in range(seq_len):\n",
    "        h_next = rnncell(inputs[:,j,:], h_next)\n",
    "        loss += loss_fn(h_next, labels[:, idx])\n",
    "        \n",
    "    opt.zero_grad()\n",
    "    loss.backward()\n",
    "    opt.step()\n",
    "\n",
    "    if (i+1) % 100 == 0:\n",
    "        print(loss)\n",
    "\n",
    "print(f'{time() - start:.2f}')"
   ]
  },
  {
   "cell_type": "code",
   "execution_count": null,
   "metadata": {
    "collapsed": true
   },
   "outputs": [],
   "source": []
  }
 ],
 "metadata": {
  "kernelspec": {
   "display_name": "Python [conda env:lab_conda]",
   "language": "python",
   "name": "conda-env-lab_conda-py"
  },
  "language_info": {
   "codemirror_mode": {
    "name": "ipython",
    "version": 3
   },
   "file_extension": ".py",
   "mimetype": "text/x-python",
   "name": "python",
   "nbconvert_exporter": "python",
   "pygments_lexer": "ipython3",
   "version": "3.6.2"
  }
 },
 "nbformat": 4,
 "nbformat_minor": 2
}
