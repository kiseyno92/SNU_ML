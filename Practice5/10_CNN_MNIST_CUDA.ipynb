{
 "cells": [
  {
   "cell_type": "markdown",
   "metadata": {},
   "source": [
    "# 10_CNN_MNIST_CUDA"
   ]
  },
  {
   "cell_type": "code",
   "execution_count": 2,
   "metadata": {
    "ExecuteTime": {
     "end_time": "2017-08-04T06:58:16.132839Z",
     "start_time": "2017-08-04T06:58:15.683224Z"
    },
    "collapsed": true
   },
   "outputs": [],
   "source": [
    "import torch \n",
    "import torch.nn as nn\n",
    "import torchvision.datasets as dsets\n",
    "import torchvision.transforms as transforms\n",
    "from torch.autograd import Variable\n",
    "import os"
   ]
  },
  {
   "cell_type": "code",
   "execution_count": 3,
   "metadata": {
    "ExecuteTime": {
     "end_time": "2017-08-04T06:58:16.303987Z",
     "start_time": "2017-08-04T06:58:16.239207Z"
    },
    "collapsed": true
   },
   "outputs": [],
   "source": [
    "# Hyper Parameters\n",
    "num_epochs = 5\n",
    "batch_size = 100\n",
    "learning_rate = 0.001\n",
    "\n",
    "# MNIST Dataset\n",
    "train_dataset = dsets.MNIST(root='./data/',\n",
    "                            train=True, \n",
    "                            transform=transforms.ToTensor(),\n",
    "                            download=True)\n",
    "\n",
    "test_dataset = dsets.MNIST(root='./data/',\n",
    "                           train=False, \n",
    "                           transform=transforms.ToTensor())\n",
    "\n",
    "# Data Loader (Input Pipeline)\n",
    "train_loader = torch.utils.data.DataLoader(dataset=train_dataset,\n",
    "                                           batch_size=batch_size, \n",
    "                                           shuffle=True)\n",
    "\n",
    "test_loader = torch.utils.data.DataLoader(dataset=test_dataset,\n",
    "                                          batch_size=batch_size, \n",
    "                                          shuffle=False)"
   ]
  },
  {
   "cell_type": "code",
   "execution_count": 4,
   "metadata": {
    "ExecuteTime": {
     "end_time": "2017-08-04T06:58:20.760110Z",
     "start_time": "2017-08-04T06:58:17.895841Z"
    },
    "collapsed": true
   },
   "outputs": [],
   "source": [
    "# CNN Model (2 conv layer)\n",
    "class CNN(nn.Module):\n",
    "    def __init__(self):\n",
    "        super(CNN, self).__init__()\n",
    "        self.layer1 = nn.Sequential(\n",
    "            nn.Conv2d(1, 16, kernel_size=5, padding=2),\n",
    "            nn.BatchNorm2d(16),\n",
    "            nn.ReLU(),\n",
    "            nn.MaxPool2d(2))\n",
    "        self.layer2 = nn.Sequential(\n",
    "            nn.Conv2d(16, 32, kernel_size=5, padding=2),\n",
    "            nn.BatchNorm2d(32),\n",
    "            nn.ReLU(),\n",
    "            nn.MaxPool2d(2))\n",
    "        self.fc = nn.Linear(7*7*32, 10)\n",
    "        \n",
    "    def forward(self, x):\n",
    "        out = self.layer1(x)\n",
    "        out = self.layer2(out)\n",
    "        out = out.view(out.size(0), -1)\n",
    "        out = self.fc(out)\n",
    "        return out\n",
    "        \n",
    "cnn = CNN()\n",
    "cnn = cnn.cuda()\n"
   ]
  },
  {
   "cell_type": "code",
   "execution_count": 9,
   "metadata": {
    "ExecuteTime": {
     "end_time": "2017-08-04T07:00:00.613254Z",
     "start_time": "2017-08-04T06:59:28.856557Z"
    }
   },
   "outputs": [
    {
     "name": "stdout",
     "output_type": "stream",
     "text": [
      "Epoch [1/5], Iter [100/600] Loss: 0.0024\n",
      "Epoch [1/5], Iter [200/600] Loss: 0.0115\n",
      "Epoch [1/5], Iter [300/600] Loss: 0.0274\n",
      "Epoch [1/5], Iter [400/600] Loss: 0.0422\n",
      "Epoch [1/5], Iter [500/600] Loss: 0.0100\n",
      "Epoch [1/5], Iter [600/600] Loss: 0.0083\n",
      "Epoch [2/5], Iter [100/600] Loss: 0.0013\n",
      "Epoch [2/5], Iter [200/600] Loss: 0.0176\n",
      "Epoch [2/5], Iter [300/600] Loss: 0.0041\n",
      "Epoch [2/5], Iter [400/600] Loss: 0.0044\n",
      "Epoch [2/5], Iter [500/600] Loss: 0.0338\n",
      "Epoch [2/5], Iter [600/600] Loss: 0.0155\n",
      "Epoch [3/5], Iter [100/600] Loss: 0.0023\n",
      "Epoch [3/5], Iter [200/600] Loss: 0.0041\n",
      "Epoch [3/5], Iter [300/600] Loss: 0.0071\n",
      "Epoch [3/5], Iter [400/600] Loss: 0.0021\n",
      "Epoch [3/5], Iter [500/600] Loss: 0.0019\n",
      "Epoch [3/5], Iter [600/600] Loss: 0.0072\n",
      "Epoch [4/5], Iter [100/600] Loss: 0.0088\n",
      "Epoch [4/5], Iter [200/600] Loss: 0.0010\n",
      "Epoch [4/5], Iter [300/600] Loss: 0.0352\n",
      "Epoch [4/5], Iter [400/600] Loss: 0.0047\n",
      "Epoch [4/5], Iter [500/600] Loss: 0.0026\n",
      "Epoch [4/5], Iter [600/600] Loss: 0.0210\n",
      "Epoch [5/5], Iter [100/600] Loss: 0.0005\n",
      "Epoch [5/5], Iter [200/600] Loss: 0.0014\n",
      "Epoch [5/5], Iter [300/600] Loss: 0.0354\n",
      "Epoch [5/5], Iter [400/600] Loss: 0.2145\n",
      "Epoch [5/5], Iter [500/600] Loss: 0.0041\n",
      "Epoch [5/5], Iter [600/600] Loss: 0.0008\n"
     ]
    }
   ],
   "source": [
    "\n",
    "if os.path.isfile('cnn.pkl'):\n",
    "    cnn.load_state_dict(torch.load('cnn.pkl'))    # Load the Trained Model\n",
    "    \n",
    "else:\n",
    "    # Loss and Optimizer\n",
    "    criterion = nn.CrossEntropyLoss()\n",
    "    optimizer = torch.optim.Adam(cnn.parameters(), lr=learning_rate)\n",
    "\n",
    "    # Train the Model\n",
    "    for epoch in range(num_epochs):\n",
    "        for i, (images, labels) in enumerate(train_loader):\n",
    "            images = Variable(images).cuda()\n",
    "            labels = Variable(labels).cuda()\n",
    "\n",
    "            # Forward + Backward + Optimize\n",
    "            optimizer.zero_grad()\n",
    "            outputs = cnn(images)\n",
    "            loss = criterion(outputs, labels)\n",
    "            loss.backward()\n",
    "            optimizer.step()\n",
    "\n",
    "            if (i+1) % 100 == 0:\n",
    "                print ('Epoch [%d/%d], Iter [%d/%d] Loss: %.4f' \n",
    "                       %(epoch+1, num_epochs, i+1, len(train_dataset)//batch_size, loss.data[0]))\n",
    "    \n",
    "    \n",
    "    if not os.path.isfile('cnn.pkl'):\n",
    "        torch.save(cnn.state_dict(), 'cnn.pkl') # Save the Trained Model\n"
   ]
  },
  {
   "cell_type": "code",
   "execution_count": 10,
   "metadata": {
    "ExecuteTime": {
     "end_time": "2017-08-04T07:00:04.547256Z",
     "start_time": "2017-08-04T07:00:03.589709Z"
    }
   },
   "outputs": [
    {
     "name": "stdout",
     "output_type": "stream",
     "text": [
      "Test Accuracy of the model on the 10000 test images: 99.050000 %\n"
     ]
    }
   ],
   "source": [
    "# Test the Model\n",
    "cnn.eval()  # Change model to 'eval' mode (BN uses moving mean/var).\n",
    "correct = 0\n",
    "total = 0\n",
    "for images, labels in test_loader:\n",
    "    images = Variable(images).cuda()\n",
    "    outputs = cnn(images)\n",
    "    _, predicted = torch.max(outputs.data, 1)\n",
    "    total += labels.size(0)\n",
    "    correct += (predicted.cpu() == labels).sum()\n",
    "\n",
    "print('Test Accuracy of the model on the 10000 test images: %f %%' % (100 * correct / total))\n"
   ]
  },
  {
   "cell_type": "code",
   "execution_count": null,
   "metadata": {
    "collapsed": true
   },
   "outputs": [],
   "source": []
  }
 ],
 "metadata": {
  "kernelspec": {
   "display_name": "Python [default]",
   "language": "python",
   "name": "python3"
  },
  "language_info": {
   "codemirror_mode": {
    "name": "ipython",
    "version": 3
   },
   "file_extension": ".py",
   "mimetype": "text/x-python",
   "name": "python",
   "nbconvert_exporter": "python",
   "pygments_lexer": "ipython3",
   "version": "3.6.2"
  }
 },
 "nbformat": 4,
 "nbformat_minor": 2
}
